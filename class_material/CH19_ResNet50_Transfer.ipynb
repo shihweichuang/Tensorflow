{
 "cells": [
  {
   "cell_type": "markdown",
   "id": "0821cbd2",
   "metadata": {},
   "source": [
    "# 使用ResNet50完成遷移學習"
   ]
  },
  {
   "cell_type": "markdown",
   "id": "ad478912",
   "metadata": {},
   "source": [
    "(1) 載入資料庫"
   ]
  },
  {
   "cell_type": "code",
   "execution_count": null,
   "id": "1560f348",
   "metadata": {},
   "outputs": [],
   "source": [
    "import numpy as np\n",
    "from PIL import Image\n",
    "from tensorflow.keras.datasets import cifar10\n",
    "import matplotlib.pyplot as plt\n",
    "\n",
    "# 載入資料集\n",
    "(train_Data, train_Label), (test_Data, test_Label) = cifar10.load_data()"
   ]
  },
  {
   "cell_type": "markdown",
   "id": "189ce327",
   "metadata": {},
   "source": [
    "資料打散與縮放"
   ]
  },
  {
   "cell_type": "code",
   "execution_count": null,
   "id": "2d6193c4",
   "metadata": {},
   "outputs": [],
   "source": [
    "# 指定亂數種子\n",
    "seed = 10\n",
    "np.random.seed(seed)\n",
    "# 打亂 2 個 Numpy 陣列\n",
    "def randomize(a, b):\n",
    "    permutation = np.random.permutation(b.shape[0])\n",
    "    shuffled_a = a[permutation,:,:]\n",
    "    shuffled_b = b[permutation]\n",
    "    return shuffled_a, shuffled_b\n",
    "    \n",
    "# 將資料集打散\n",
    "train_Data, train_Label = randomize(train_Data, train_Label)\n",
    "# 取出部分的訓練資料\n",
    "train_Data = train_Data[:5000]\n",
    "train_Label = train_Label[:5000]\n",
    "# 取出部分測試集的資料\n",
    "test_Data = test_Data[:1000]\n",
    "test_Label = test_Label[:1000]\n",
    "\n",
    "# 將訓練資料的圖片尺寸放大 (ResNet50 輸入預設是 224x224)\n",
    "train_Data_new = np.array(\n",
    "  [np.asarray(Image.fromarray(train_Data[i]).resize(\n",
    "          (224, 224))) for i in range(0, len(train_Data))])\n",
    "\n",
    "# 將測試資料的圖片尺寸放大 (ResNet50 輸入預設是 224x224)\n",
    "test_Data_new = np.array(\n",
    "  [np.asarray(Image.fromarray(test_Data[i]).resize(\n",
    "          (224, 224))) for i in range(0, len(test_Data))])\n",
    "\n",
    "# 繪出3張圖片\n",
    "fig = plt.figure(figsize=(10,7))\n",
    "sub_plot= 230\n",
    "for i in range(0, 3):\n",
    "    ax = plt.subplot(sub_plot+i+1)\n",
    "    ax.imshow(train_Data_new[i], cmap=\"binary\")\n",
    "    ax.set_title(\"Label: \" + str(train_Label[i]))\n",
    "\n",
    "plt.show()"
   ]
  },
  {
   "cell_type": "markdown",
   "id": "d6dc7973",
   "metadata": {},
   "source": [
    "標籤進行編碼與載入 ResNet50 模型"
   ]
  },
  {
   "cell_type": "code",
   "execution_count": null,
   "id": "94d5f0df",
   "metadata": {},
   "outputs": [],
   "source": [
    "from tensorflow.keras.utils import to_categorical\n",
    "from tensorflow.keras.applications.resnet50 import ResNet50, preprocess_input\n",
    "# One-hot編碼\n",
    "train_Label = to_categorical(train_Label, 10)\n",
    "test_Label = to_categorical(test_Label, 10)\n",
    "# 載入 ResNet50 模型\n",
    "resnet_model = ResNet50(weights=\"imagenet\",\n",
    "                        include_top=False,\n",
    "                        input_shape=(224, 224, 3))\n",
    "print(resnet_model.summary())\n",
    "\n",
    "# 訓練資料的資料前處理 \n",
    "train_Data_new = train_Data_new.astype(\"float32\")\n",
    "preprocess_train_input = preprocess_input(train_Data_new)\n",
    "print(train_Data_new.shape) \n",
    "# 測試資料的資料前處理\n",
    "test_Data_new = test_Data_new.astype(\"float32\")\n",
    "preprocess_test_input = preprocess_input(test_Data_new)\n",
    "print(test_Data_new.shape)"
   ]
  },
  {
   "cell_type": "markdown",
   "id": "9615097a",
   "metadata": {},
   "source": [
    "模型預測"
   ]
  },
  {
   "cell_type": "code",
   "execution_count": null,
   "id": "2f0d333d",
   "metadata": {},
   "outputs": [],
   "source": [
    "# 使用 ResNet50 模型預測訓練資料的特徵資料\n",
    "train_features = resnet_model.predict(preprocess_train_input)\n",
    "print(train_features.shape) \n",
    "# 使用 ResNet50 模型預測測試資料的特徵資料\n",
    "test_features = resnet_model.predict(preprocess_test_input)\n",
    "print(test_features.shape)"
   ]
  },
  {
   "cell_type": "markdown",
   "id": "2cac9372",
   "metadata": {},
   "source": [
    "利用ResNet50模型預訓練模型，後面加入分類器神經網路"
   ]
  },
  {
   "cell_type": "code",
   "execution_count": null,
   "id": "8c6fed40",
   "metadata": {},
   "outputs": [],
   "source": [
    "from tensorflow.keras.models import Sequential\n",
    "from tensorflow.keras.layers import Dense, Dropout, GlobalAveragePooling2D\n",
    "\n",
    "# 定義模型(加入分類神經網路)\n",
    "model = Sequential()\n",
    "model.add(GlobalAveragePooling2D(\n",
    "        input_shape=train_features.shape[1:]))\n",
    "model.add(Dropout(0.5))\n",
    "model.add(Dense(10, activation=\"softmax\"))"
   ]
  },
  {
   "cell_type": "markdown",
   "id": "898f6cd6",
   "metadata": {},
   "source": [
    "模型編譯與訓練"
   ]
  },
  {
   "cell_type": "code",
   "execution_count": null,
   "id": "acab8e80",
   "metadata": {},
   "outputs": [],
   "source": [
    "# 編譯模型\n",
    "model.compile(loss=\"categorical_crossentropy\", optimizer=\"adam\",\n",
    "              metrics=[\"accuracy\"])\n",
    "# 訓練模型\n",
    "history = model.fit(train_features, train_Label,\n",
    "                    validation_data=(test_features, test_Label), \n",
    "                    epochs=14, batch_size=32, verbose=2)"
   ]
  },
  {
   "cell_type": "markdown",
   "id": "0dc7c2ad",
   "metadata": {},
   "source": [
    "模型評估"
   ]
  },
  {
   "cell_type": "code",
   "execution_count": null,
   "id": "c7bb926f",
   "metadata": {},
   "outputs": [],
   "source": [
    "loss, accuracy = model.evaluate(test_features, Y_test, verbose=0)\n",
    "print(\"測試資料集的準確度 = {:.2f}\".format(accuracy))"
   ]
  }
 ],
 "metadata": {
  "kernelspec": {
   "display_name": "Python 3 (ipykernel)",
   "language": "python",
   "name": "python3"
  },
  "language_info": {
   "codemirror_mode": {
    "name": "ipython",
    "version": 3
   },
   "file_extension": ".py",
   "mimetype": "text/x-python",
   "name": "python",
   "nbconvert_exporter": "python",
   "pygments_lexer": "ipython3",
   "version": "3.8.10"
  }
 },
 "nbformat": 4,
 "nbformat_minor": 5
}
