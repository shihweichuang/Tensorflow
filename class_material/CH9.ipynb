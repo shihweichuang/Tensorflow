{
 "cells": [
  {
   "cell_type": "markdown",
   "id": "90ddfc7d",
   "metadata": {},
   "source": [
    "# 1"
   ]
  },
  {
   "cell_type": "markdown",
   "id": "9e0df5c9",
   "metadata": {},
   "source": [
    "製作樣本空間：這邊我們利用sklearn.datasets 裡面有一個make_moons()函數，此函數可以雙月亮型的樣本數據"
   ]
  },
  {
   "cell_type": "code",
   "execution_count": null,
   "id": "1ca16a43",
   "metadata": {},
   "outputs": [],
   "source": [
    "from sklearn.datasets import make_moons\n",
    "import matplotlib.pyplot as plt\n",
    "\n",
    "fig=plt.figure()\n",
    "x1,y1=make_moons(n_samples=1000,noise=0.1)\n",
    "plt.title('make_moons function example')\n",
    "plt.scatter(x1[:,0],x1[:,1],marker='o' ,c=y1)\n",
    "plt.show()"
   ]
  },
  {
   "cell_type": "markdown",
   "id": "be2f7ba8",
   "metadata": {},
   "source": [
    "# 2"
   ]
  },
  {
   "cell_type": "markdown",
   "id": "7e3647fc",
   "metadata": {},
   "source": [
    "這邊我們也可以將Dropout當作一層網路使用，在網路中間插入一個Dropout層。"
   ]
  },
  {
   "cell_type": "code",
   "execution_count": null,
   "id": "aa3f2d74",
   "metadata": {},
   "outputs": [],
   "source": [
    "import tensorflow as tf\n",
    "(train_image,train_label),(test_image,test_label)=\\\n",
    "    tf.keras.datasets.fashion_mnist.load_data()\n",
    "# 對資料集做一個前置處理, 將資料正規到 0~1 之間\n",
    "def preprocess(x, y):\n",
    "    x = tf.cast(x, dtype=tf.float32) / 255.\n",
    "    y = tf.cast(y, dtype=tf.int32)\n",
    "    return x,y\n",
    "# 建立模型\n",
    "def build_model():\n",
    "    # 線性疊加\n",
    "    model = tf.keras.models.Sequential()\n",
    "    # 改變平坦輸入\n",
    "    model.add(tf.keras.layers.Flatten(input_shape=(28, 28)))\n",
    "    model.add(tf.keras.layers.Dense(256, activation=tf.nn.relu))\n",
    "    model.add(tf.keras.layers.Dense(128, activation=tf.nn.relu))\n",
    "    model.add(tf.keras.layers.Dropout(0.5))   # 使用 Dropout 層  # 上列只要一半被訓練\n",
    "    model.add(tf.keras.layers.Dense(64, activation=tf.nn.relu))\n",
    "    model.add(tf.keras.layers.Dropout(0.5))   # 使用 Dropout 層  # 上列只要一半被訓練\n",
    "    model.add(tf.keras.layers.Dense(10, activation=tf.nn.softmax))\n",
    "    return model\n",
    "\n",
    "model = build_model()\n",
    "\n",
    "# 編譯模型\n",
    "model.compile(optimizer= tf.keras.optimizers.Adam(),\n",
    "              loss='sparse_categorical_crossentropy',\n",
    "              metrics=['accuracy'])\n",
    "\n",
    "train_images, train_labels = preprocess(train_image, train_label)\n",
    "batchsz = 128  # 設定批次大小\n",
    "# 訓練模型\n",
    "history = model.fit(train_images, train_labels,epochs=50,\n",
    "                    batch_size = batchsz,   # 設定批次訓練大小 batchsz\n",
    "                    verbose = 2)            # 印出為精簡模式\n",
    "loss, accuracy = model.evaluate(test_image, test_label)\n",
    "print(\"\\nLoss: %.2f, Accuracy: %.2f%%\" % (loss, accuracy*100))"
   ]
  },
  {
   "cell_type": "markdown",
   "id": "42a94a47",
   "metadata": {},
   "source": [
    "以雙月形兩類資料點求決策邊界為範例。這邊在Dense()函數上添加L2正則化參數，並通過改變不同的正則化參數λ來獲得不同程度的正則化效果。"
   ]
  },
  {
   "cell_type": "code",
   "execution_count": null,
   "id": "5ee44b67",
   "metadata": {},
   "outputs": [],
   "source": [
    "def build_model_with_regularization(_lambda):\n",
    "    # 建立帶正則化項的神經網路\n",
    "    model = Sequential()\n",
    "    model.add(layers.Dense(8, input_dim=2, activation='relu')) # 不帶正則化項\n",
    "    # 第 2-4 層均是帶 L2 正則化項\n",
    "    model.add(layers.Dense(256, activation='relu',\n",
    "                           kernel_regularizer=regularizers.l2(_lambda)))\n",
    "    model.add(layers.Dense(256, activation='relu',\n",
    "                           kernel_regularizer=regularizers.l2(_lambda)))\n",
    "    model.add(layers.Dense(256, activation='relu',\n",
    "                           kernel_regularizer=regularizers.l2(_lambda)))\n",
    "    # 輸出層\n",
    "    model.add(layers.Dense(1, activation='sigmoid'))\n",
    "    model.compile(loss='binary_crossentropy', optimizer='adam',\n",
    "                  metrics=['accuracy'])\n",
    "    return model"
   ]
  }
 ],
 "metadata": {
  "kernelspec": {
   "display_name": "Python 3 (ipykernel)",
   "language": "python",
   "name": "python3"
  },
  "language_info": {
   "codemirror_mode": {
    "name": "ipython",
    "version": 3
   },
   "file_extension": ".py",
   "mimetype": "text/x-python",
   "name": "python",
   "nbconvert_exporter": "python",
   "pygments_lexer": "ipython3",
   "version": "3.8.10"
  }
 },
 "nbformat": 4,
 "nbformat_minor": 5
}
