{
 "cells": [
  {
   "cell_type": "markdown",
   "metadata": {},
   "source": [
    "# 用CNN網路架構進行訓練"
   ]
  },
  {
   "cell_type": "markdown",
   "metadata": {},
   "source": [
    "(1) 下載IMDB資料庫並對資料進行One-hot編碼"
   ]
  },
  {
   "cell_type": "code",
   "execution_count": 5,
   "metadata": {},
   "outputs": [],
   "source": [
    "import tensorflow as tf\n",
    "from tensorflow.keras.datasets import imdb\n",
    "# 下載 IMDB Dataset 資料集\n",
    "(train_data, train_labels), (test_data, test_labels) = imdb.load_data(num_words=10000)\n",
    "\n",
    "# 資料前處理=>將資料轉換成 one-hot-encode\n",
    "import numpy as np\n",
    " \n",
    "def vectorize_sequences(sequences, dimension=10000):\n",
    "    # 創建一個全零形狀的矩陣 (len(sequences), dimension)\n",
    "    results = np.zeros((len(sequences), dimension))\n",
    "    for i, sequence in enumerate(sequences):\n",
    "        results[i, sequence] = 1.  # 將 results[i] 的特定索引設置為 1s\n",
    "    return results\n",
    " \n",
    "# 將訓練資料轉換成 One-hot 形式\n",
    "x_train = vectorize_sequences(train_data)\n",
    "# 將測試資料轉換成 One-hot 形式\n",
    "x_test = vectorize_sequences(test_data)\n",
    "# 將結果標記進行正規化\n",
    "# Our vectorized labels\n",
    "y_train = np.asarray(train_labels).astype('float32')\n",
    "y_test = np.asarray(test_labels).astype('float32')"
   ]
  },
  {
   "cell_type": "markdown",
   "metadata": {},
   "source": [
    "(2) 從訓練集中分離驗證建立RNN模型集\n",
    "\n",
    "先將準備訓練的25000筆資料集，抽出10000筆資料集用在訓練時期的驗證資料，好讓我們監控訓練過程的準確性變化。"
   ]
  },
  {
   "cell_type": "code",
   "execution_count": null,
   "metadata": {},
   "outputs": [],
   "source": [
    "# 從訓練集中切出驗證集資料\n",
    "x_val = x_train[:10000]\n",
    "partial_x_train = x_train[10000:]\n",
    "\n",
    "y_val = y_train[:10000]\n",
    "partial_y_train = y_train[10000:]"
   ]
  },
  {
   "cell_type": "markdown",
   "metadata": {},
   "source": [
    "(3) 網路建置\n",
    "\n",
    "使用三層網路，全連接層使用兩層 16 個神經元的網路，激勵函數設定為 relu，連接最後使用一個神經元輸出（表示正評或負評），並使用 sigmoid 作為最後輸出的啟動函數(代表機率值)。"
   ]
  },
  {
   "cell_type": "code",
   "execution_count": 6,
   "metadata": {},
   "outputs": [],
   "source": [
    "# 建立 CNN 網路架構\n",
    "from keras import models\n",
    "from keras import layers\n",
    " \n",
    "model = models.Sequential()\n",
    "model.add(layers.Dense(16, activation='relu', input_shape=(10000,)))\n",
    "model.add(layers.Dense(16, activation='relu'))\n",
    "model.add(layers.Dense(1, activation='sigmoid'))"
   ]
  },
  {
   "cell_type": "markdown",
   "metadata": {},
   "source": [
    "(4) 設定優化器與損失函數\n",
    "\n",
    "將優化器設定為 adam，損失函數使用 binary_crossentropy，將網路進行 Compile"
   ]
  },
  {
   "cell_type": "code",
   "execution_count": 9,
   "metadata": {},
   "outputs": [],
   "source": [
    "# 設定優化器與損失函數\n",
    "model.compile(optimizer='adam',\n",
    "              loss='binary_crossentropy',\n",
    "              metrics=['accuracy'])"
   ]
  },
  {
   "cell_type": "markdown",
   "metadata": {},
   "source": [
    "(5) 訓練CNN模型"
   ]
  },
  {
   "cell_type": "code",
   "execution_count": 10,
   "metadata": {},
   "outputs": [
    {
     "name": "stdout",
     "output_type": "stream",
     "text": [
      "Epoch 1/100\n",
      "30/30 [==============================] - 6s 74ms/step - loss: 0.5502 - accuracy: 0.7639 - val_loss: 0.3986 - val_accuracy: 0.8580\n",
      "Epoch 2/100\n",
      "30/30 [==============================] - 1s 18ms/step - loss: 0.2997 - accuracy: 0.9024 - val_loss: 0.2955 - val_accuracy: 0.8880\n",
      "Epoch 3/100\n",
      "30/30 [==============================] - 1s 18ms/step - loss: 0.2015 - accuracy: 0.9351 - val_loss: 0.2779 - val_accuracy: 0.8889\n",
      "Epoch 4/100\n",
      "30/30 [==============================] - 1s 18ms/step - loss: 0.1478 - accuracy: 0.9542 - val_loss: 0.2850 - val_accuracy: 0.8866\n",
      "Epoch 5/100\n",
      "30/30 [==============================] - 1s 19ms/step - loss: 0.1122 - accuracy: 0.9688 - val_loss: 0.2982 - val_accuracy: 0.8825\n",
      "Epoch 6/100\n",
      "30/30 [==============================] - 1s 18ms/step - loss: 0.0853 - accuracy: 0.9783 - val_loss: 0.3229 - val_accuracy: 0.8807\n",
      "Epoch 7/100\n",
      "30/30 [==============================] - 1s 17ms/step - loss: 0.0648 - accuracy: 0.9869 - val_loss: 0.3487 - val_accuracy: 0.8788\n",
      "Epoch 8/100\n",
      "30/30 [==============================] - 1s 18ms/step - loss: 0.0492 - accuracy: 0.9914 - val_loss: 0.3814 - val_accuracy: 0.8764\n",
      "Epoch 9/100\n",
      "30/30 [==============================] - 1s 19ms/step - loss: 0.0370 - accuracy: 0.9952 - val_loss: 0.4119 - val_accuracy: 0.8747\n",
      "Epoch 10/100\n",
      "30/30 [==============================] - 1s 19ms/step - loss: 0.0285 - accuracy: 0.9967 - val_loss: 0.4392 - val_accuracy: 0.8737\n",
      "Epoch 11/100\n",
      "30/30 [==============================] - 1s 21ms/step - loss: 0.0211 - accuracy: 0.9991 - val_loss: 0.4736 - val_accuracy: 0.8709\n",
      "Epoch 12/100\n",
      "30/30 [==============================] - 1s 18ms/step - loss: 0.0162 - accuracy: 0.9997 - val_loss: 0.4984 - val_accuracy: 0.8716\n",
      "Epoch 13/100\n",
      "30/30 [==============================] - 1s 18ms/step - loss: 0.0123 - accuracy: 0.9997 - val_loss: 0.5232 - val_accuracy: 0.8707\n",
      "Epoch 14/100\n",
      "30/30 [==============================] - 1s 17ms/step - loss: 0.0096 - accuracy: 0.9999 - val_loss: 0.5503 - val_accuracy: 0.8694\n",
      "Epoch 15/100\n",
      "30/30 [==============================] - 1s 20ms/step - loss: 0.0077 - accuracy: 0.9999 - val_loss: 0.5694 - val_accuracy: 0.8696\n",
      "Epoch 16/100\n",
      "30/30 [==============================] - 1s 19ms/step - loss: 0.0064 - accuracy: 0.9999 - val_loss: 0.5912 - val_accuracy: 0.8690\n",
      "Epoch 17/100\n",
      "30/30 [==============================] - 1s 18ms/step - loss: 0.0052 - accuracy: 0.9999 - val_loss: 0.6091 - val_accuracy: 0.8679\n",
      "Epoch 18/100\n",
      "30/30 [==============================] - 1s 18ms/step - loss: 0.0043 - accuracy: 0.9999 - val_loss: 0.6307 - val_accuracy: 0.8678\n",
      "Epoch 19/100\n",
      "30/30 [==============================] - 1s 20ms/step - loss: 0.0037 - accuracy: 0.9999 - val_loss: 0.6446 - val_accuracy: 0.8683\n",
      "Epoch 20/100\n",
      "30/30 [==============================] - 1s 18ms/step - loss: 0.0032 - accuracy: 0.9999 - val_loss: 0.6601 - val_accuracy: 0.8684\n",
      "Epoch 21/100\n",
      "30/30 [==============================] - 1s 18ms/step - loss: 0.0027 - accuracy: 0.9999 - val_loss: 0.6763 - val_accuracy: 0.8667\n",
      "Epoch 22/100\n",
      "30/30 [==============================] - 1s 18ms/step - loss: 0.0024 - accuracy: 0.9999 - val_loss: 0.6882 - val_accuracy: 0.8659\n",
      "Epoch 23/100\n",
      "30/30 [==============================] - 1s 19ms/step - loss: 0.0021 - accuracy: 0.9999 - val_loss: 0.7055 - val_accuracy: 0.8652\n",
      "Epoch 24/100\n",
      "30/30 [==============================] - 1s 18ms/step - loss: 0.0018 - accuracy: 0.9999 - val_loss: 0.7192 - val_accuracy: 0.8654\n",
      "Epoch 25/100\n",
      "30/30 [==============================] - 1s 18ms/step - loss: 0.0016 - accuracy: 0.9999 - val_loss: 0.7366 - val_accuracy: 0.8651\n",
      "Epoch 26/100\n",
      "30/30 [==============================] - 1s 18ms/step - loss: 0.0014 - accuracy: 0.9999 - val_loss: 0.7497 - val_accuracy: 0.8653\n",
      "Epoch 27/100\n",
      "30/30 [==============================] - 1s 17ms/step - loss: 0.0012 - accuracy: 0.9999 - val_loss: 0.7615 - val_accuracy: 0.8651\n",
      "Epoch 28/100\n",
      "30/30 [==============================] - 1s 19ms/step - loss: 0.0011 - accuracy: 1.0000 - val_loss: 0.7722 - val_accuracy: 0.8645\n",
      "Epoch 29/100\n",
      "30/30 [==============================] - 1s 18ms/step - loss: 9.8094e-04 - accuracy: 1.0000 - val_loss: 0.7856 - val_accuracy: 0.8643\n",
      "Epoch 30/100\n",
      "30/30 [==============================] - 1s 18ms/step - loss: 8.8715e-04 - accuracy: 1.0000 - val_loss: 0.7954 - val_accuracy: 0.8637\n",
      "Epoch 31/100\n",
      "30/30 [==============================] - 1s 18ms/step - loss: 8.0287e-04 - accuracy: 1.0000 - val_loss: 0.8069 - val_accuracy: 0.8638\n",
      "Epoch 32/100\n",
      "30/30 [==============================] - 1s 19ms/step - loss: 7.3238e-04 - accuracy: 1.0000 - val_loss: 0.8169 - val_accuracy: 0.8638\n",
      "Epoch 33/100\n",
      "30/30 [==============================] - 1s 18ms/step - loss: 6.6882e-04 - accuracy: 1.0000 - val_loss: 0.8271 - val_accuracy: 0.8635\n",
      "Epoch 34/100\n",
      "30/30 [==============================] - 1s 18ms/step - loss: 6.1194e-04 - accuracy: 1.0000 - val_loss: 0.8368 - val_accuracy: 0.8636\n",
      "Epoch 35/100\n",
      "30/30 [==============================] - 1s 18ms/step - loss: 5.6293e-04 - accuracy: 1.0000 - val_loss: 0.8491 - val_accuracy: 0.8640\n",
      "Epoch 36/100\n",
      "30/30 [==============================] - 1s 18ms/step - loss: 5.2219e-04 - accuracy: 1.0000 - val_loss: 0.8566 - val_accuracy: 0.8642\n",
      "Epoch 37/100\n",
      "30/30 [==============================] - 1s 19ms/step - loss: 4.8180e-04 - accuracy: 1.0000 - val_loss: 0.8673 - val_accuracy: 0.8641\n",
      "Epoch 38/100\n",
      "30/30 [==============================] - 1s 18ms/step - loss: 4.4632e-04 - accuracy: 1.0000 - val_loss: 0.8726 - val_accuracy: 0.8633\n",
      "Epoch 39/100\n",
      "30/30 [==============================] - 1s 18ms/step - loss: 4.1445e-04 - accuracy: 1.0000 - val_loss: 0.8814 - val_accuracy: 0.8637\n",
      "Epoch 40/100\n",
      "30/30 [==============================] - 1s 18ms/step - loss: 3.8599e-04 - accuracy: 1.0000 - val_loss: 0.8907 - val_accuracy: 0.8638\n",
      "Epoch 41/100\n",
      "30/30 [==============================] - 1s 18ms/step - loss: 3.5968e-04 - accuracy: 1.0000 - val_loss: 0.8970 - val_accuracy: 0.8632\n",
      "Epoch 42/100\n",
      "30/30 [==============================] - 1s 18ms/step - loss: 3.3682e-04 - accuracy: 1.0000 - val_loss: 0.9077 - val_accuracy: 0.8632\n",
      "Epoch 43/100\n",
      "30/30 [==============================] - 1s 18ms/step - loss: 3.1529e-04 - accuracy: 1.0000 - val_loss: 0.9152 - val_accuracy: 0.8635\n",
      "Epoch 44/100\n",
      "30/30 [==============================] - 1s 19ms/step - loss: 2.9543e-04 - accuracy: 1.0000 - val_loss: 0.9214 - val_accuracy: 0.8633\n",
      "Epoch 45/100\n",
      "30/30 [==============================] - 1s 18ms/step - loss: 2.7732e-04 - accuracy: 1.0000 - val_loss: 0.9281 - val_accuracy: 0.8630\n",
      "Epoch 46/100\n",
      "30/30 [==============================] - 1s 18ms/step - loss: 2.6149e-04 - accuracy: 1.0000 - val_loss: 0.9356 - val_accuracy: 0.8628\n",
      "Epoch 47/100\n",
      "30/30 [==============================] - 1s 18ms/step - loss: 2.4655e-04 - accuracy: 1.0000 - val_loss: 0.9430 - val_accuracy: 0.8631\n",
      "Epoch 48/100\n",
      "30/30 [==============================] - 1s 20ms/step - loss: 2.3295e-04 - accuracy: 1.0000 - val_loss: 0.9500 - val_accuracy: 0.8634\n",
      "Epoch 49/100\n",
      "30/30 [==============================] - 1s 18ms/step - loss: 2.1970e-04 - accuracy: 1.0000 - val_loss: 0.9576 - val_accuracy: 0.8629\n",
      "Epoch 50/100\n",
      "30/30 [==============================] - 1s 17ms/step - loss: 2.0790e-04 - accuracy: 1.0000 - val_loss: 0.9646 - val_accuracy: 0.8629\n",
      "Epoch 51/100\n",
      "30/30 [==============================] - 1s 17ms/step - loss: 1.9718e-04 - accuracy: 1.0000 - val_loss: 0.9702 - val_accuracy: 0.8629\n",
      "Epoch 52/100\n",
      "30/30 [==============================] - 1s 18ms/step - loss: 1.8694e-04 - accuracy: 1.0000 - val_loss: 0.9772 - val_accuracy: 0.8628\n",
      "Epoch 53/100\n",
      "30/30 [==============================] - 1s 20ms/step - loss: 1.7756e-04 - accuracy: 1.0000 - val_loss: 0.9822 - val_accuracy: 0.8630\n",
      "Epoch 54/100\n",
      "30/30 [==============================] - 1s 18ms/step - loss: 1.6853e-04 - accuracy: 1.0000 - val_loss: 0.9898 - val_accuracy: 0.8629\n",
      "Epoch 55/100\n",
      "30/30 [==============================] - 1s 17ms/step - loss: 1.6047e-04 - accuracy: 1.0000 - val_loss: 0.9944 - val_accuracy: 0.8628\n",
      "Epoch 56/100\n",
      "30/30 [==============================] - 1s 18ms/step - loss: 1.5268e-04 - accuracy: 1.0000 - val_loss: 1.0024 - val_accuracy: 0.8628\n",
      "Epoch 57/100\n",
      "30/30 [==============================] - 1s 19ms/step - loss: 1.4561e-04 - accuracy: 1.0000 - val_loss: 1.0076 - val_accuracy: 0.8627\n",
      "Epoch 58/100\n",
      "30/30 [==============================] - 1s 18ms/step - loss: 1.3882e-04 - accuracy: 1.0000 - val_loss: 1.0123 - val_accuracy: 0.8628\n",
      "Epoch 59/100\n",
      "30/30 [==============================] - 1s 18ms/step - loss: 1.3255e-04 - accuracy: 1.0000 - val_loss: 1.0186 - val_accuracy: 0.8627\n",
      "Epoch 60/100\n",
      "30/30 [==============================] - 1s 18ms/step - loss: 1.2658e-04 - accuracy: 1.0000 - val_loss: 1.0242 - val_accuracy: 0.8627\n",
      "Epoch 61/100\n",
      "30/30 [==============================] - 1s 18ms/step - loss: 1.2115e-04 - accuracy: 1.0000 - val_loss: 1.0294 - val_accuracy: 0.8628\n",
      "Epoch 62/100\n",
      "30/30 [==============================] - 1s 19ms/step - loss: 1.1594e-04 - accuracy: 1.0000 - val_loss: 1.0345 - val_accuracy: 0.8629\n",
      "Epoch 63/100\n",
      "30/30 [==============================] - 1s 17ms/step - loss: 1.1108e-04 - accuracy: 1.0000 - val_loss: 1.0412 - val_accuracy: 0.8624\n",
      "Epoch 64/100\n",
      "30/30 [==============================] - 1s 18ms/step - loss: 1.0618e-04 - accuracy: 1.0000 - val_loss: 1.0459 - val_accuracy: 0.8627\n",
      "Epoch 65/100\n",
      "30/30 [==============================] - 1s 17ms/step - loss: 1.0180e-04 - accuracy: 1.0000 - val_loss: 1.0513 - val_accuracy: 0.8625\n",
      "Epoch 66/100\n",
      "30/30 [==============================] - 1s 18ms/step - loss: 9.7689e-05 - accuracy: 1.0000 - val_loss: 1.0573 - val_accuracy: 0.8625\n",
      "Epoch 67/100\n",
      "30/30 [==============================] - 1s 20ms/step - loss: 9.3838e-05 - accuracy: 1.0000 - val_loss: 1.0607 - val_accuracy: 0.8627\n",
      "Epoch 68/100\n",
      "30/30 [==============================] - 1s 19ms/step - loss: 9.0142e-05 - accuracy: 1.0000 - val_loss: 1.0668 - val_accuracy: 0.8625\n",
      "Epoch 69/100\n",
      "30/30 [==============================] - 1s 18ms/step - loss: 8.6556e-05 - accuracy: 1.0000 - val_loss: 1.0714 - val_accuracy: 0.8625\n",
      "Epoch 70/100\n",
      "30/30 [==============================] - 1s 18ms/step - loss: 8.3243e-05 - accuracy: 1.0000 - val_loss: 1.0762 - val_accuracy: 0.8624\n",
      "Epoch 71/100\n",
      "30/30 [==============================] - 1s 18ms/step - loss: 8.0098e-05 - accuracy: 1.0000 - val_loss: 1.0808 - val_accuracy: 0.8622\n",
      "Epoch 72/100\n",
      "30/30 [==============================] - 1s 18ms/step - loss: 7.7087e-05 - accuracy: 1.0000 - val_loss: 1.0861 - val_accuracy: 0.8626\n",
      "Epoch 73/100\n",
      "30/30 [==============================] - 1s 20ms/step - loss: 7.4182e-05 - accuracy: 1.0000 - val_loss: 1.0905 - val_accuracy: 0.8627\n",
      "Epoch 74/100\n",
      "30/30 [==============================] - 1s 18ms/step - loss: 7.1479e-05 - accuracy: 1.0000 - val_loss: 1.0957 - val_accuracy: 0.8625\n",
      "Epoch 75/100\n",
      "30/30 [==============================] - 1s 17ms/step - loss: 6.8899e-05 - accuracy: 1.0000 - val_loss: 1.0999 - val_accuracy: 0.8625\n",
      "Epoch 76/100\n",
      "30/30 [==============================] - 1s 18ms/step - loss: 6.6461e-05 - accuracy: 1.0000 - val_loss: 1.1046 - val_accuracy: 0.8624\n",
      "Epoch 77/100\n",
      "30/30 [==============================] - 1s 18ms/step - loss: 6.4086e-05 - accuracy: 1.0000 - val_loss: 1.1095 - val_accuracy: 0.8622\n",
      "Epoch 78/100\n",
      "30/30 [==============================] - 1s 19ms/step - loss: 6.1871e-05 - accuracy: 1.0000 - val_loss: 1.1138 - val_accuracy: 0.8621\n",
      "Epoch 79/100\n",
      "30/30 [==============================] - 1s 18ms/step - loss: 5.9746e-05 - accuracy: 1.0000 - val_loss: 1.1174 - val_accuracy: 0.8623\n",
      "Epoch 80/100\n",
      "30/30 [==============================] - 1s 18ms/step - loss: 5.7740e-05 - accuracy: 1.0000 - val_loss: 1.1229 - val_accuracy: 0.8621\n",
      "Epoch 81/100\n",
      "30/30 [==============================] - 1s 18ms/step - loss: 5.5715e-05 - accuracy: 1.0000 - val_loss: 1.1269 - val_accuracy: 0.8620\n",
      "Epoch 82/100\n",
      "30/30 [==============================] - 1s 18ms/step - loss: 5.3842e-05 - accuracy: 1.0000 - val_loss: 1.1314 - val_accuracy: 0.8622\n",
      "Epoch 83/100\n",
      "30/30 [==============================] - 1s 19ms/step - loss: 5.2045e-05 - accuracy: 1.0000 - val_loss: 1.1351 - val_accuracy: 0.8622\n",
      "Epoch 84/100\n",
      "30/30 [==============================] - 1s 18ms/step - loss: 5.0366e-05 - accuracy: 1.0000 - val_loss: 1.1399 - val_accuracy: 0.8621\n",
      "Epoch 85/100\n",
      "30/30 [==============================] - 1s 18ms/step - loss: 4.8682e-05 - accuracy: 1.0000 - val_loss: 1.1433 - val_accuracy: 0.8620\n",
      "Epoch 86/100\n",
      "30/30 [==============================] - 1s 18ms/step - loss: 4.7144e-05 - accuracy: 1.0000 - val_loss: 1.1483 - val_accuracy: 0.8617\n",
      "Epoch 87/100\n",
      "30/30 [==============================] - 1s 18ms/step - loss: 4.5643e-05 - accuracy: 1.0000 - val_loss: 1.1517 - val_accuracy: 0.8617\n",
      "Epoch 88/100\n",
      "30/30 [==============================] - 1s 19ms/step - loss: 4.4214e-05 - accuracy: 1.0000 - val_loss: 1.1562 - val_accuracy: 0.8614\n",
      "Epoch 89/100\n",
      "30/30 [==============================] - 1s 18ms/step - loss: 4.2845e-05 - accuracy: 1.0000 - val_loss: 1.1604 - val_accuracy: 0.8617\n",
      "Epoch 90/100\n",
      "30/30 [==============================] - 1s 18ms/step - loss: 4.1542e-05 - accuracy: 1.0000 - val_loss: 1.1649 - val_accuracy: 0.8616\n",
      "Epoch 91/100\n",
      "30/30 [==============================] - 1s 19ms/step - loss: 4.0271e-05 - accuracy: 1.0000 - val_loss: 1.1681 - val_accuracy: 0.8614\n",
      "Epoch 92/100\n",
      "30/30 [==============================] - 1s 17ms/step - loss: 3.9001e-05 - accuracy: 1.0000 - val_loss: 1.1727 - val_accuracy: 0.8616\n",
      "Epoch 93/100\n",
      "30/30 [==============================] - 1s 18ms/step - loss: 3.7820e-05 - accuracy: 1.0000 - val_loss: 1.1764 - val_accuracy: 0.8615\n",
      "Epoch 94/100\n",
      "30/30 [==============================] - 1s 18ms/step - loss: 3.6678e-05 - accuracy: 1.0000 - val_loss: 1.1802 - val_accuracy: 0.8614\n",
      "Epoch 95/100\n",
      "30/30 [==============================] - 1s 18ms/step - loss: 3.5582e-05 - accuracy: 1.0000 - val_loss: 1.1840 - val_accuracy: 0.8613\n",
      "Epoch 96/100\n",
      "30/30 [==============================] - 1s 19ms/step - loss: 3.4547e-05 - accuracy: 1.0000 - val_loss: 1.1879 - val_accuracy: 0.8613\n",
      "Epoch 97/100\n",
      "30/30 [==============================] - 1s 17ms/step - loss: 3.3563e-05 - accuracy: 1.0000 - val_loss: 1.1912 - val_accuracy: 0.8613\n",
      "Epoch 98/100\n",
      "30/30 [==============================] - 1s 18ms/step - loss: 3.2575e-05 - accuracy: 1.0000 - val_loss: 1.1951 - val_accuracy: 0.8616\n",
      "Epoch 99/100\n",
      "30/30 [==============================] - 1s 17ms/step - loss: 3.1640e-05 - accuracy: 1.0000 - val_loss: 1.1991 - val_accuracy: 0.8615\n",
      "Epoch 100/100\n",
      "30/30 [==============================] - 1s 18ms/step - loss: 3.0753e-05 - accuracy: 1.0000 - val_loss: 1.2029 - val_accuracy: 0.8617\n"
     ]
    }
   ],
   "source": [
    "history = model.fit(partial_x_train,\n",
    "                    partial_y_train,\n",
    "                    epochs=100,\n",
    "                    batch_size=512,\n",
    "                    validation_data=(x_val, y_val))"
   ]
  },
  {
   "cell_type": "markdown",
   "metadata": {},
   "source": [
    "(6) 訓練結果圖表分析\n",
    "\n",
    "透過上面的方法可以取得訓練 History 包含的資訊，然後我們將資訊繪製成為圖表，首先觀察 loss 變化"
   ]
  },
  {
   "cell_type": "code",
   "execution_count": 12,
   "metadata": {
    "scrolled": true
   },
   "outputs": [
    {
     "data": {
      "image/png": "[encoded data removed]",
      "text/plain": [
       "<Figure size 432x288 with 1 Axes>"
      ]
     },
     "metadata": {
      "needs_background": "light"
     },
     "output_type": "display_data"
    }
   ],
   "source": [
    "import matplotlib.pyplot as plt\n",
    " \n",
    "acc = history.history['accuracy']\n",
    "val_acc = history.history['val_accuracy']\n",
    "loss = history.history['loss']\n",
    "val_loss = history.history['val_loss']\n",
    " \n",
    "epochs = range(1, len(acc) + 1)\n",
    " \n",
    "# \"bo\" 用來畫出 \"blue dot\"\n",
    "plt.plot(epochs, loss, 'bo', label='Training loss')\n",
    "# b 用來畫出 \"solid blue line\"\n",
    "plt.plot(epochs, val_loss, 'b', label='Validation loss')\n",
    "plt.title('Training and validation loss')\n",
    "plt.xlabel('Epochs')\n",
    "plt.ylabel('Loss')\n",
    "plt.legend()\n",
    " \n",
    "plt.show()"
   ]
  },
  {
   "cell_type": "markdown",
   "metadata": {},
   "source": [
    "(6) 這邊也可以產生圖表來觀察正確率的變化"
   ]
  },
  {
   "cell_type": "code",
   "execution_count": 14,
   "metadata": {
    "scrolled": true
   },
   "outputs": [
    {
     "data": {
      "image/png": "[encoded data removed]",
      "text/plain": [
       "<Figure size 432x288 with 1 Axes>"
      ]
     },
     "metadata": {
      "needs_background": "light"
     },
     "output_type": "display_data"
    }
   ],
   "source": [
    "plt.clf()   # clear figure\n",
    "history_dict = history.history\n",
    "history_dict.keys()\n",
    "acc_values = history_dict['accuracy']\n",
    "val_acc_values = history_dict['val_accuracy']\n",
    " \n",
    "plt.plot(epochs, acc, 'bo', label='Training acc')\n",
    "plt.plot(epochs, val_acc, 'b', label='Validation acc')\n",
    "plt.title('Training and validation accuracy')\n",
    "plt.xlabel('Epochs')\n",
    "plt.ylabel('Loss')\n",
    "plt.legend()\n",
    " \n",
    "plt.show()"
   ]
  },
  {
   "cell_type": "markdown",
   "metadata": {},
   "source": [
    "由上面的數據可以看出來，以現在的網路架構，其實在第 3 次 Epoch 就已經獲得最佳的結果，之後的訓練已經造成過度擬合 (Over Fitting)，因此在這個案例中將 Epoch 設定為 3 或 4 是取得最佳訓練模型的方法。"
   ]
  }
 ],
 "metadata": {
  "kernelspec": {
   "display_name": "Python 3 (ipykernel)",
   "language": "python",
   "name": "python3"
  },
  "language_info": {
   "codemirror_mode": {
    "name": "ipython",
    "version": 3
   },
   "file_extension": ".py",
   "mimetype": "text/x-python",
   "name": "python",
   "nbconvert_exporter": "python",
   "pygments_lexer": "ipython3",
   "version": "3.8.10"
  }
 },
 "nbformat": 4,
 "nbformat_minor": 4
}
