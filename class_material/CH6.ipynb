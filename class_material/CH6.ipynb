{
 "cells": [
  {
   "cell_type": "markdown",
   "id": "fbe09e83",
   "metadata": {},
   "source": [
    "# 交叉熵"
   ]
  },
  {
   "cell_type": "code",
   "execution_count": null,
   "id": "a82bf19b",
   "metadata": {},
   "outputs": [],
   "source": [
    "import tensorflow as tf\n",
    "\n",
    "y_true = [0.,1.,0.,1.]              # 真實值\n",
    "y_pred1 = [0.5, 0.8, 0.3, 0.5]      # 預測值\n",
    "\n",
    "# 利用數學定義去算 二分類交叉熵\n",
    "def BCE(out, target):               # 放入兩個值才有辦法計算誤差\n",
    "    n = len(out)                    # 進來的資料有多少筆\n",
    "    total_value = 0                 # 用於計算誤差\n",
    "    \n",
    "    for i in range(n):\n",
    "        total_value += (target[i]*tf.math.log(out[i])+(1-target[i])*tf.math.log(1-out[i]))\n",
    "    \n",
    "    total_value *= -1/n\n",
    "    print(total_value)\n",
    "    \n",
    "# 呼叫自訂義函數\n",
    "BCE(y_pred1, y_true)\n",
    "# 呼叫tf.keras帶的binary_crossentropy\n",
    "loss1 = tf.keras.losses.binary_crossentropy(y_true, y_pred1)\n",
    "print(loss1)"
   ]
  },
  {
   "cell_type": "markdown",
   "id": "34b95d45",
   "metadata": {},
   "source": [
    "# 多分類：categorical_crossentropy(分類交叉熵)"
   ]
  },
  {
   "cell_type": "code",
   "execution_count": null,
   "id": "31c1f0e3",
   "metadata": {},
   "outputs": [],
   "source": [
    "import tensorflow as tf\n",
    "\n",
    "y_true = [0,0,1,0]          # One-hot 編碼\n",
    "y_pred1 = [0.1,0.1,0.7,0.1] # 假設已經通過softmax，所以必須和為1\n",
    "y_pred2 = [0.3,0.2,0.4,0.1]\n",
    "loss1 = tf.keras.losses.categorical_crossentropy(y_true, y_pred1)\n",
    "loss2 = tf.keras.losses.categorical_crossentropy(y_true, y_pred2)\n",
    "print(\"loss1: \", loss1)\n",
    "print(\"loss2: \", loss2)"
   ]
  },
  {
   "cell_type": "markdown",
   "id": "ef143af1",
   "metadata": {},
   "source": [
    "# 多分類：sparse_categorical_crossentropy （稀疏分類交叉謫）"
   ]
  },
  {
   "cell_type": "code",
   "execution_count": null,
   "id": "1126d2d9",
   "metadata": {},
   "outputs": [],
   "source": [
    "import tensorflow as tf\n",
    "# 分成三類、二物品\n",
    "y_pred = ([0.2,0.8,0],[0.2,0.6,0.2])  # 類別編號(從0開始) 第一類為0.2、第二類為0.8、第三類為0\n",
    "y_true = [1,2]                        # 真實類別標籤\n",
    "loss = tf.keras.losses.sparse_categorical_crossentropy(y_true,y_pred)\n",
    "print(loss)"
   ]
  },
  {
   "cell_type": "markdown",
   "id": "85bde039",
   "metadata": {},
   "source": [
    "# categorical_crossentropy"
   ]
  },
  {
   "cell_type": "code",
   "execution_count": null,
   "id": "b0b58f63",
   "metadata": {},
   "outputs": [],
   "source": [
    "import tensorflow as tf\n",
    "# 整數編碼\n",
    "y_true1 = [1,2]\n",
    "# One_hot 編碼\n",
    "y_true2 = [[0,1,0],[0,0,1]]\n",
    "# 機率分布\n",
    "y_pred = [[0.05,0.95,0],[0.1,0.8,0.1]]\n",
    "# sparse_categorical_crossentropy 用在整數編碼\n",
    "loss1 = tf.keras.losses.sparse_categorical_crossentropy(y_true1, y_pred)\n",
    "# categorical_crossentropy 用在One-hot 編碼\n",
    "loss2 = tf.keras.losses.categorical_crossentropy(y_true2, y_pred)\n",
    "print(loss1)\n",
    "print(loss2)"
   ]
  }
 ],
 "metadata": {
  "kernelspec": {
   "display_name": "Python 3 (ipykernel)",
   "language": "python",
   "name": "python3"
  },
  "language_info": {
   "codemirror_mode": {
    "name": "ipython",
    "version": 3
   },
   "file_extension": ".py",
   "mimetype": "text/x-python",
   "name": "python",
   "nbconvert_exporter": "python",
   "pygments_lexer": "ipython3",
   "version": "3.8.10"
  }
 },
 "nbformat": 4,
 "nbformat_minor": 5
}
