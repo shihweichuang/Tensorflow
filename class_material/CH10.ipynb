{
 "cells": [
  {
   "cell_type": "markdown",
   "id": "fc29e266",
   "metadata": {},
   "source": [
    "# 1"
   ]
  },
  {
   "cell_type": "markdown",
   "id": "18242433",
   "metadata": {},
   "source": [
    "Scalar()範例：在訓練過程中將數據寫入"
   ]
  },
  {
   "cell_type": "code",
   "execution_count": null,
   "id": "57b80b47",
   "metadata": {},
   "outputs": [],
   "source": [
    "import tensorflow as tf\n",
    "import datetime\n",
    "from tensorflow.keras import datasets, losses, layers, optimizers, metrics, Sequential \n",
    "\n",
    "# 定義前處理函數\n",
    "def preprocess(x, y):\n",
    "    x = tf.cast(x, dtype=tf.float32) / 255.\n",
    "    y = tf.cast(y, dtype=tf.int32)\n",
    "    return x, y\n",
    "\n",
    "# 載入 fashion_mnist 資料 \n",
    "(x, y), (x_test, y_test) = datasets.fashion_mnist.load_data()\n",
    "\n",
    "train_data_norm, train_label = preprocess(x,y)\n",
    "test_data_norm, test_label = preprocess(x_test,y_test)\n",
    "\n",
    "# 建立模型\n",
    "model = tf.keras.models.Sequential([\n",
    "        layers.Flatten(input_shape=(28, 28)),\n",
    "        layers.Dense(128, activation='relu'),\n",
    "        layers.Dropout(0.2),\n",
    "        layers.Dense(10, activation='softmax')\n",
    "])\n",
    "\n",
    "# 設定優化器(optimizer)、損失函數(loss)、效能衡量指標(metrics)的類別\n",
    "loss_func = losses.SparseCategoricalCrossentropy()\n",
    "optimizer = optimizers.Adam()\n",
    "\n",
    "# 定義訓練及測試的效能衡量指標(Metrics)\n",
    "train_loss = metrics.Mean('train_loss', dtype=tf.float32)\n",
    "train_accuracy = metrics.SparseCategoricalAccuracy('train_accuracy')\n",
    "test_loss = metrics.Mean('test_loss', dtype=tf.float32)\n",
    "test_accuracy = metrics.SparseCategoricalAccuracy('test_accuracy')"
   ]
  },
  {
   "cell_type": "code",
   "execution_count": null,
   "id": "0b27f60c",
   "metadata": {},
   "outputs": [],
   "source": [
    "# 訓練階段\n",
    "def train_step(model, optimizer, x_train, y_train):\n",
    "    # 自動微分\n",
    "    with tf.GradientTape() as tape:\n",
    "        predictions = model(x_train, training=True)\n",
    "        loss = loss_func(y_train, predictions)\n",
    "    grads = tape.gradient(loss, model.trainable_variables)\n",
    "    optimizer.apply_gradients(zip(grads, model.trainable_variables))\n",
    "\n",
    "    # 計算訓練的效能衡量指標\n",
    "    train_loss(loss)\n",
    "    train_accuracy(y_train, predictions)\n",
    "\n",
    "    # 測試階段\n",
    "def test_step(model, x_test, y_test):\n",
    "    # 預測\n",
    "    predictions = model(x_test)\n",
    "    # 計算損失\n",
    "    loss = loss_func(y_test, predictions)\n",
    "\n",
    "    # 計算測試的效能衡量指標\n",
    "    test_loss(loss)\n",
    "    test_accuracy(y_test, predictions)"
   ]
  },
  {
   "cell_type": "code",
   "execution_count": null,
   "id": "0cfa8601",
   "metadata": {},
   "outputs": [],
   "source": [
    "import datetime\n",
    "\n",
    "current_time = datetime.datetime.now().strftime(\"%Y%m%d-%H%M%S\")\n",
    "# 指定訓練的 log 檔名\n",
    "train_log_dir = '.\\\\logs\\\\gradient_tape\\\\' + current_time + '\\\\train'\n",
    "# 指定測試的 log 檔名\n",
    "test_log_dir = '.\\\\logs\\\\gradient_tape\\\\' + current_time + '\\\\test'\n",
    "\n",
    "# 開啟檔案\n",
    "train_summary_writer = tf.summary.create_file_writer(train_log_dir)\n",
    "test_summary_writer = tf.summary.create_file_writer(test_log_dir)"
   ]
  },
  {
   "cell_type": "code",
   "execution_count": null,
   "id": "db31ebcc",
   "metadata": {},
   "outputs": [],
   "source": [
    "# 將訓練/測試資料轉成 Tensorflow Dataset\n",
    "train_dataset = tf.data.Dataset.from_tensor_slices((train_data_norm, train_label))\n",
    "test_dataset = tf.data.Dataset.from_tensor_slices((test_data_norm, test_label))\n",
    "\n",
    "# 每次從 60000 筆訓練資料隨機抽出 64 筆\n",
    "train_dataset = train_dataset.shuffle(60000).batch(64)\n",
    "# 每次從 10000 筆測試資料隨機抽出 64 筆\n",
    "test_dataset = test_dataset.batch(64)"
   ]
  },
  {
   "cell_type": "code",
   "execution_count": null,
   "id": "7665d913",
   "metadata": {},
   "outputs": [],
   "source": [
    "EPOCHS = 5\n",
    "\n",
    "for epoch in range(EPOCHS):\n",
    "    for (x_train, y_train) in train_dataset:\n",
    "        train_step(model, optimizer, x_train, y_train)\n",
    "    with train_summary_writer.as_default():\n",
    "        tf.summary.scalar('loss', train_loss.result(), step=epoch)\n",
    "        tf.summary.scalar('accuracy', train_accuracy.result(), step=epoch)\n",
    "\n",
    "    for (x_test, y_test) in test_dataset:\n",
    "        test_step(model, x_test, y_test)\n",
    "    with test_summary_writer.as_default():\n",
    "        tf.summary.scalar('loss', test_loss.result(), step=epoch)\n",
    "        tf.summary.scalar('accuracy', test_accuracy.result(), step=epoch)\n",
    "    \n",
    "    template = 'Epoch {}, Loss: {}, Accuracy: {}, Test Loss: {}, Test Accuracy: {}'\n",
    "    print (template.format(epoch+1,train_loss.result(), \n",
    "                           train_accuracy.result()*100,\n",
    "                           test_loss.result(), \n",
    "                           test_accuracy.result()*100))\n",
    "\n",
    "    # 每一個 epoch 清除裡面的數值\n",
    "    train_loss.reset_states()\n",
    "    test_loss.reset_states()\n",
    "    train_accuracy.reset_states()\n",
    "    test_accuracy.reset_states()"
   ]
  },
  {
   "cell_type": "code",
   "execution_count": null,
   "id": "148dfe62",
   "metadata": {},
   "outputs": [],
   "source": [
    "# 載入 TensorBoard notebook extension，即可在 jupyter notebook 啟動 Tensorboard\n",
    "%load_ext tensorboard\n",
    "# 啟動 Tensorboard\n",
    "%tensorboard --logdir logs/gradient_tape"
   ]
  },
  {
   "cell_type": "markdown",
   "id": "dd75ad81",
   "metadata": {},
   "source": [
    "# 2"
   ]
  },
  {
   "cell_type": "markdown",
   "id": "17a83817",
   "metadata": {},
   "source": [
    "Image()範例"
   ]
  },
  {
   "cell_type": "code",
   "execution_count": null,
   "id": "b2dbd87d",
   "metadata": {},
   "outputs": [],
   "source": [
    "import tensorflow as tf\n",
    "import datetime\n",
    "from tensorflow.keras import datasets, layers, optimizers, Sequential ,metrics\n",
    "\n",
    "# 載入 fashion_mnist 資料 \n",
    "(x, y), (x_test, y_test) = datasets.fashion_mnist.load_data()\n",
    "\n",
    "# 創建一個路徑, 並利用格式化過的時間當作檔案名稱\n",
    "log_dir='.\\\\logs\\\\Imagelog\\\\'+ datetime.datetime.now().strftime(\"%Y%m%d-%H%M%S\")\n",
    "# (1)創建一個 summarywriter 紀錄器，將要紀錄的資料儲存到 \"./Imagelog\" 路徑中\n",
    "summarywriter = tf.summary.create_file_writer(log_dir)  \n",
    "images = tf.reshape(x, (-1, 28, 28, 1)) \n",
    "# (2) 選擇希望使用的記錄器\n",
    "with summarywriter.as_default(): \n",
    "    tf.summary.image('Training data', images, max_outputs=5, step=0)"
   ]
  },
  {
   "cell_type": "markdown",
   "id": "0147253f",
   "metadata": {},
   "source": [
    "# 3"
   ]
  },
  {
   "cell_type": "markdown",
   "id": "c873a29a",
   "metadata": {},
   "source": [
    "利用內建的 Keras Callback 啟動 TensorBoard"
   ]
  },
  {
   "cell_type": "code",
   "execution_count": null,
   "id": "409f6358",
   "metadata": {},
   "outputs": [],
   "source": [
    "import tensorflow as tf\n",
    "import os\n",
    "import datetime\n",
    "\n",
    "(train_image,train_label),(test_image,test_label)=\\\n",
    "    tf.keras.datasets.fashion_mnist.load_data()\n",
    "\n",
    "# 對資料集做一個前置處理, 將資料正規到 0~1 之間\n",
    "def preprocess(x, y):\n",
    "    x = tf.cast(x, dtype=tf.float32) / 255.\n",
    "    y = tf.cast(y, dtype=tf.int32)\n",
    "    return x,y\n",
    "\n",
    "# 建立模型\n",
    "def build_model():\n",
    "    model = tf.keras.models.Sequential()       # 線性疊加\n",
    "    # 改變平坦輸入\n",
    "    model.add(tf.keras.layers.Flatten(input_shape=(28, 28)))\n",
    "    model.add(tf.keras.layers.Dense(128, activation=tf.nn.relu))\n",
    "    model.add(tf.keras.layers.Dropout(0.5))   # 使用 Dropout 層\n",
    "    model.add(tf.keras.layers.Dense(10, activation=tf.nn.softmax))\n",
    "    return model\n",
    "\n",
    "model = build_model()\n",
    "\n",
    "# 編譯模型\n",
    "model.compile(optimizer= tf.keras.optimizers.Adam(),\n",
    "              loss='sparse_categorical_crossentropy',\n",
    "              metrics=['accuracy'])\n",
    "\n",
    "log_dir = '.\\\\logs\\\\tensorboard\\\\'+ datetime.datetime.now().strftime(\"%Y%m%d-%H%M%S\")\n",
    "# 設定回調函數\n",
    "tensorboard_callback = tf.keras.callbacks.TensorBoard(log_dir, histogram_freq=1)\n",
    "\n",
    "train_images, train_labels = preprocess(train_image, train_label)\n",
    "batchsz = 128  # 設定批次大小\n",
    "# 訓練模型\n",
    "history = model.fit(train_images, train_labels,epochs= 10,\n",
    "                    batch_size = batchsz,   # 設定批次訓練大小\n",
    "                    validation_split=0.2,\n",
    "                    callbacks=[tensorboard_callback])"
   ]
  }
 ],
 "metadata": {
  "kernelspec": {
   "display_name": "Python 3 (ipykernel)",
   "language": "python",
   "name": "python3"
  },
  "language_info": {
   "codemirror_mode": {
    "name": "ipython",
    "version": 3
   },
   "file_extension": ".py",
   "mimetype": "text/x-python",
   "name": "python",
   "nbconvert_exporter": "python",
   "pygments_lexer": "ipython3",
   "version": "3.8.10"
  }
 },
 "nbformat": 4,
 "nbformat_minor": 5
}
