{
 "cells": [
  {
   "cell_type": "markdown",
   "id": "f487e9e6",
   "metadata": {},
   "source": [
    "# 利用GRU神經網路完成完成 yahoo Finance 的股票預測"
   ]
  },
  {
   "cell_type": "markdown",
   "id": "d1ed8d41",
   "metadata": {},
   "source": [
    "(1) 擷取資料"
   ]
  },
  {
   "cell_type": "markdown",
   "id": "71bbcbdf",
   "metadata": {},
   "source": [
    "(2) 資料可視化"
   ]
  },
  {
   "cell_type": "code",
   "execution_count": null,
   "id": "42efe8ab",
   "metadata": {},
   "outputs": [],
   "source": [
    "import matplotlib.pyplot as plt\n",
    "import numpy as np\n",
    "from pandas import read_csv\n",
    "# 用 pandas 載入數據及截取某一行的數據\n",
    "# 分析引擎選擇 python,前面8筆資料不取\n",
    "dataItem = read_csv('yahoo_stock.csv', usecols=[4],\n",
    "                     engine='python', skiprows=8)\n",
    "# 讀取dataItem Series 的 value\n",
    "data = dataItem.values\n",
    "# 將資料型態轉換成 float32\n",
    "data = data.astype('float32')\n",
    "print(data.shape)  # 秀出資料維度\n",
    "plt.plot(data)   # 以圖表表示出\n",
    "plt.show()"
   ]
  },
  {
   "cell_type": "markdown",
   "id": "732f2b72",
   "metadata": {},
   "source": [
    "(3) 製作訓練資料與標籤"
   ]
  },
  {
   "cell_type": "code",
   "execution_count": null,
   "id": "bfb98695",
   "metadata": {},
   "outputs": [],
   "source": [
    "def GetDataAndLabel(data,TimeStep):\n",
    "    trainData, trainLabel = [], []\n",
    "    for i in range(len(data)-TimeStep):\n",
    "        TrainDataOne = data[i:(i+TimeStep),0]\n",
    "        trainData.append(TrainDataOne)\n",
    "        trainLabel.append(data[i+TimeStep,0])\n",
    "    return np.array(trainData), np.array(trainLabel)"
   ]
  },
  {
   "cell_type": "markdown",
   "id": "e5321d08",
   "metadata": {},
   "source": [
    "(4) 資料數據歸一化"
   ]
  },
  {
   "cell_type": "code",
   "execution_count": null,
   "id": "a068474d",
   "metadata": {},
   "outputs": [],
   "source": [
    "from sklearn.preprocessing import MinMaxScaler\n",
    "# 將數據歸一化\n",
    "scaler = MinMaxScaler(feature_range=(0, 1))\n",
    "data = scaler.fit_transform(data)"
   ]
  },
  {
   "cell_type": "markdown",
   "id": "ce0cea91",
   "metadata": {},
   "source": [
    "(5) 將資料切割為訓練集與測試集"
   ]
  },
  {
   "cell_type": "code",
   "execution_count": null,
   "id": "49191cdc",
   "metadata": {},
   "outputs": [],
   "source": [
    "# 將資料切割成訓練集與測試集, 分割比例為 9:1\n",
    "TrainDataNum = int(len(data) * 0.9)\n",
    "TestDataNum = len(data) - TrainDataNum\n",
    "# 前面 0~ TrainDataNum-1 的資料為訓練集\n",
    "trainData = data[0:TrainDataNum,:]\n",
    "# 從 TrainDataNum 之後的資料為測試集\n",
    "testData = data[TrainDataNum:len(data),:]\n",
    "TimeStep = 6\n",
    "traindataNew, trainLabelNew = GetDataAndLabel(trainData, TimeStep)\n",
    "testdataNew, testLabelNew = GetDataAndLabel(testData, TimeStep)\n",
    "print(\"traindataNew.shape :\",traindataNew.shape)\n",
    "print(\"trainLabelNew.shape :\",trainLabelNew.shape)\n",
    "print(\"testdataNew.shape :\",testdataNew.shape)\n",
    "print(\"testLabelNew.shape :\",testLabelNew.shape)"
   ]
  },
  {
   "cell_type": "markdown",
   "id": "9033b7bb",
   "metadata": {},
   "source": [
    "(6) 修改資料維度"
   ]
  },
  {
   "cell_type": "code",
   "execution_count": null,
   "id": "aad08ab2",
   "metadata": {},
   "outputs": [],
   "source": [
    "# 將訓練資料與測試資料的維度改為 [batch_size, time_steps, input_dim]\n",
    "traindataNew = np.reshape(traindataNew,\n",
    "              (traindataNew.shape[0], traindataNew.shape[1], 1))\n",
    "testdataNew = np.reshape(testdataNew,\n",
    "              (testdataNew.shape[0], testdataNew.shape[1], 1))\n",
    "print(\"traindataNew.shape :\",traindataNew.shape)\n",
    "print(\"testdataNew.shape :\",testdataNew.shape)"
   ]
  },
  {
   "cell_type": "markdown",
   "id": "b4179533",
   "metadata": {},
   "source": [
    "(7) 建立網路模型"
   ]
  },
  {
   "cell_type": "code",
   "execution_count": null,
   "id": "3d9069e0",
   "metadata": {},
   "outputs": [],
   "source": [
    "from tensorflow.keras.layers import GRU, Dense\n",
    "from tensorflow import keras\n",
    "model = keras.Sequential()\n",
    "model.add(GRU(128,input_shape=(TimeStep,1),return_sequences=True))\n",
    "model.add(GRU(64,input_shape=(TimeStep,1)))\n",
    "model.add(Dense(1))\n",
    "print(model.summary())"
   ]
  },
  {
   "cell_type": "markdown",
   "id": "250c87d6",
   "metadata": {},
   "source": [
    "(8) 網路編譯與訓練"
   ]
  },
  {
   "cell_type": "code",
   "execution_count": null,
   "id": "5917e56f",
   "metadata": {},
   "outputs": [],
   "source": [
    "# 模型建立與訓練\n",
    "model.compile(loss='mean_squared_error',\n",
    "              optimizer='adam',metrics=['accuracy'])\n",
    "hist = model.fit(traindataNew,trainLabelNew,\n",
    "                 epochs=250,batch_size=64,verbose=1)"
   ]
  },
  {
   "cell_type": "markdown",
   "id": "eb052fea",
   "metadata": {},
   "source": [
    "(9) 損失值可視化"
   ]
  },
  {
   "cell_type": "code",
   "execution_count": null,
   "id": "56aefb18",
   "metadata": {},
   "outputs": [],
   "source": [
    "# 繪出每個訓練周期的損失值\n",
    "loss = hist.history[\"loss\"]\n",
    "epochs = range(len(loss))\n",
    "plt.plot(epochs,loss,'r-',label=\"Training loss\")\n",
    "plt.title('Training Loss')\n",
    "plt.xlabel(\"Epochs\")\n",
    "plt.ylabel(\"Loss\")\n",
    "plt.legend()\n",
    "plt.show()"
   ]
  },
  {
   "cell_type": "markdown",
   "id": "a04c9364",
   "metadata": {},
   "source": [
    "(10) 預測訓練集與測試集"
   ]
  },
  {
   "cell_type": "code",
   "execution_count": null,
   "id": "e519944b",
   "metadata": {},
   "outputs": [],
   "source": [
    "# 重新拿訓練集與測試集來預測股價資訊\n",
    "trainPredict = model.predict(traindataNew)\n",
    "testPredict = model.predict(testdataNew)"
   ]
  },
  {
   "cell_type": "markdown",
   "id": "e0e2a608",
   "metadata": {},
   "source": [
    "(11) 反歸一化數值圖表可視化"
   ]
  },
  {
   "cell_type": "code",
   "execution_count": null,
   "id": "2b7ad628",
   "metadata": {},
   "outputs": [],
   "source": [
    "# 將預測資料轉換為原始資料\n",
    "trainRealPredict = scaler.inverse_transform(trainPredict)\n",
    "trainY = scaler.inverse_transform([trainLabelNew])\n",
    "testRealPredict = scaler.inverse_transform(testPredict)\n",
    "testY = scaler.inverse_transform([testLabelNew])\n",
    "\n",
    "# 創造一個與原始資料一樣的陣列,\n",
    "PredtrainingData = np.empty_like(data)\n",
    "PredtestData = np.empty_like(data)\n",
    "\n",
    "# 將內部資料設定成 None (空類型)\n",
    "originaldata = scaler.inverse_transform(data)\n",
    "PredtrainingData[:, :] = np.nan\n",
    "PredtestData[:, :] = np.nan\n",
    "# 訓練集的預測資料是從 TimeStep 時間開始,\n",
    "# 一直到 len(trainPredict) + TimeStep 結束\n",
    "PredtrainingData[TimeStep:\n",
    "             len(trainPredict) + TimeStep, :] = trainRealPredict\n",
    "# 測試集的預測資料是從訓練集的長度 + (TimeStep * 2)-1時間開始,\n",
    "# 一直到 len(trainPredict)-1結束\n",
    "PredtestData[len(trainPredict) + (TimeStep * 2)-1:\n",
    "         len(data) - 1, :] = testRealPredict\n",
    "# 繪製原始資料\n",
    "plt.plot(originaldata,color = 'green',label=\"Original data\")\n",
    "# 繪製訓練集的預測資料\n",
    "plt.plot(PredtrainingData, color = 'red',label=\"Train data Predict\")\n",
    "# 繪製測試集的預測資料\n",
    "plt.plot(PredtestData, color = 'blue',label=\"Test data Predict\")\n",
    "plt.legend()\n",
    "plt.show()"
   ]
  }
 ],
 "metadata": {
  "kernelspec": {
   "display_name": "Python 3 (ipykernel)",
   "language": "python",
   "name": "python3"
  },
  "language_info": {
   "codemirror_mode": {
    "name": "ipython",
    "version": 3
   },
   "file_extension": ".py",
   "mimetype": "text/x-python",
   "name": "python",
   "nbconvert_exporter": "python",
   "pygments_lexer": "ipython3",
   "version": "3.8.10"
  }
 },
 "nbformat": 4,
 "nbformat_minor": 5
}
