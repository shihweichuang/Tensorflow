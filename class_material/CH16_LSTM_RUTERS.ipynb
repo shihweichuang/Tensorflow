{
 "cells": [
  {
   "cell_type": "markdown",
   "id": "b1732bbb",
   "metadata": {},
   "source": [
    "# 利用LSTM神經網路完成路透社新聞分類"
   ]
  },
  {
   "cell_type": "markdown",
   "id": "7e397b74",
   "metadata": {},
   "source": [
    "(1)下載Reuters資料集"
   ]
  },
  {
   "cell_type": "code",
   "execution_count": null,
   "id": "3a4ce41d",
   "metadata": {},
   "outputs": [],
   "source": [
    "from tensorflow.keras.datasets import reuters\n",
    "# 下載最常見的多少字\n",
    "num_word = 10000\n",
    "(train_data,train_label),(test_data,test_label) = \\\n",
    "    reuters.load_data(num_words=num_word)\n",
    "print(\"train_data.shape\",train_data.shape)\n",
    "print(\"train_label.shape\",train_label.shape)\n",
    "print(\"test_data.shape\",test_data.shape)\n",
    "print(\"test_label.shape\",test_label.shape)"
   ]
  },
  {
   "cell_type": "markdown",
   "id": "d9d234cc",
   "metadata": {},
   "source": [
    "印出第一筆資料內容"
   ]
  },
  {
   "cell_type": "code",
   "execution_count": null,
   "id": "066bd2a6",
   "metadata": {},
   "outputs": [],
   "source": [
    "print(\"train_data[0] :\",train_data[0])\n",
    "print(\"train_label[0] :\",train_label[0])"
   ]
  },
  {
   "cell_type": "markdown",
   "id": "833d1521",
   "metadata": {},
   "source": [
    "利用單詞的內容先去找出相對應的索引"
   ]
  },
  {
   "cell_type": "code",
   "execution_count": null,
   "id": "6fc05020",
   "metadata": {},
   "outputs": [],
   "source": [
    "Index_of_word = reuters.get_word_index()\n",
    "youIndex = Index_of_word[\"you\"]\n",
    "print(\"'you' index = \",youIndex)"
   ]
  },
  {
   "cell_type": "markdown",
   "id": "b6fe5c3d",
   "metadata": {},
   "source": [
    "(2)訓練前準備：資料預處理"
   ]
  },
  {
   "cell_type": "code",
   "execution_count": null,
   "id": "0a990374",
   "metadata": {},
   "outputs": [],
   "source": [
    "# 資料預處理\n",
    "from tensorflow.keras.preprocessing import sequence\n",
    "# 將原始新聞長度裁剪成固定長度\n",
    "wordMaxNum = 200\n",
    "train_data_new = sequence.pad_sequences(train_data,maxlen = wordMaxNum)\n",
    "test_data_new = sequence.pad_sequences(test_data,maxlen = wordMaxNum)\n",
    "print(train_data_new.shape)\n",
    "print(test_data_new.shape)"
   ]
  },
  {
   "cell_type": "markdown",
   "id": "6ea0e298",
   "metadata": {},
   "source": [
    "轉換成One-hot 編碼形式"
   ]
  },
  {
   "cell_type": "code",
   "execution_count": null,
   "id": "275c0a63",
   "metadata": {},
   "outputs": [],
   "source": [
    "import tensorflow as tf\n",
    "# 定義類別數目\n",
    "num_classes = 46\n",
    "One_hot_Train = tf.one_hot(train_label,depth=num_classes)\n",
    "One_hot_Test = tf.one_hot(test_label,depth=num_classes)"
   ]
  },
  {
   "cell_type": "markdown",
   "id": "56511008",
   "metadata": {},
   "source": [
    "(3) 模型建立"
   ]
  },
  {
   "cell_type": "code",
   "execution_count": null,
   "id": "194f69e3",
   "metadata": {},
   "outputs": [],
   "source": [
    "from tensorflow.keras.layers import LSTM\n",
    "from tensorflow import keras\n",
    "from tensorflow.keras import layers\n",
    "model = keras.Sequential()\n",
    "model.add(layers.Embedding(num_word,\n",
    "                           output_dim=200,\n",
    "                           input_length= wordMaxNum))\n",
    "model.add(LSTM(128,dropout=0.5,return_sequences=True))\n",
    "model.add(LSTM(128,dropout=0.5))\n",
    "model.add(layers.Dense(num_classes, activation='softmax'))\n",
    "print(model.summary())"
   ]
  },
  {
   "cell_type": "markdown",
   "id": "78c5a9e3",
   "metadata": {},
   "source": [
    "(4) 模型編譯與訓練"
   ]
  },
  {
   "cell_type": "code",
   "execution_count": null,
   "id": "9b983ecc",
   "metadata": {},
   "outputs": [],
   "source": [
    "import matplotlib.pyplot as plt\n",
    "batch_sizes = 32\n",
    "epochs = 50\n",
    "model.compile(optimizer='rmsprop',\n",
    "              loss='categorical_crossentropy',\n",
    "              metrics=[\"accuracy\"])\n",
    "hist = model.fit(train_data_new,One_hot_Train,epochs=epochs,\n",
    "                 batch_size=batch_sizes,verbose=2,\n",
    "                 validation_split=0.2)"
   ]
  },
  {
   "cell_type": "markdown",
   "id": "cf31b93e",
   "metadata": {},
   "source": [
    "(5) 模型正確率計算：用測試集加以驗證並計算其正確率"
   ]
  },
  {
   "cell_type": "code",
   "execution_count": null,
   "id": "4ab0d0ab",
   "metadata": {},
   "outputs": [],
   "source": [
    "loss,accuracy = model.evaluate(test_data_new,One_hot_Test)\n",
    "print(\"測試集的正確率 = \",accuracy)"
   ]
  }
 ],
 "metadata": {
  "kernelspec": {
   "display_name": "Python 3 (ipykernel)",
   "language": "python",
   "name": "python3"
  },
  "language_info": {
   "codemirror_mode": {
    "name": "ipython",
    "version": 3
   },
   "file_extension": ".py",
   "mimetype": "text/x-python",
   "name": "python",
   "nbconvert_exporter": "python",
   "pygments_lexer": "ipython3",
   "version": "3.8.10"
  }
 },
 "nbformat": 4,
 "nbformat_minor": 5
}
