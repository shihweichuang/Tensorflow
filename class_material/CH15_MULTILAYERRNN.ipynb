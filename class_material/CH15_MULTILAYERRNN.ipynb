{
 "cells": [
  {
   "cell_type": "code",
   "execution_count": null,
   "id": "9c4b7293",
   "metadata": {},
   "outputs": [],
   "source": [
    "import tensorflow as tf\n",
    "from tensorflow.keras import layers\n",
    "# 建立兩個句子, 每個句子10個單詞\n",
    "word = tf.random.normal([2,10,20])\n",
    "x0 = word[:,0,:]   # 取第一個時間戳的輸入 x0\n",
    "# 構建 2 個 Cell,下面為 cell_0,上面為 cell_1，狀態向量長度都為 16\n",
    "cell_0 = layers.SimpleRNNCell(16)\n",
    "cell_1 = layers.SimpleRNNCell(16)\n",
    "h0 = [tf.zeros([2,16])]   # cell0 的初始狀態向量\n",
    "h1 = [tf.zeros([2,16])]   # cell1 的初始狀態向量\n",
    "\n",
    "out0, h0 = cell_0(x0, h0)\n",
    "out1, h1 = cell_1(out0, h1)\n",
    "\n",
    "for x in tf.unstack(word, axis=1):\n",
    "    # xt 作為輸入，輸出為 out0\n",
    "    out0, h0 = cell_0(x, h0)\n",
    "    # 上一個 cell 的輸出 out0 作為本 cell 的輸入\n",
    "    out1, h1 = cell_1(out0, h1)"
   ]
  },
  {
   "cell_type": "code",
   "execution_count": null,
   "id": "4588b4f6",
   "metadata": {},
   "outputs": [],
   "source": [
    "import tensorflow as tf\n",
    "from tensorflow.keras import layers\n",
    "# 建立兩個句子, 每個句子10個單詞\n",
    "word = tf.random.normal([2,10,20])\n",
    "x0 = word[:,0,:]   # 取第一個時間戳的輸入 x0\n",
    "# 構建 2 個 Cell,下面為 cell_0,上面為 cell_1，狀態向量長度都為 16\n",
    "cell_0 = layers.SimpleRNNCell(16)\n",
    "cell_1 = layers.SimpleRNNCell(16)\n",
    "h0 = [tf.zeros([2,16])]   # cell0 的初始狀態向量\n",
    "h1 = [tf.zeros([2,16])]   # cell1 的初始狀態向量\n",
    "# 保存第一層所有時間步上的輸出\n",
    "outLevel1 = []\n",
    "# 計算第一層的所有時間步的前向計算\n",
    "for x1 in tf.unstack(word, axis=1):\n",
    "    # xt 作為輸入，輸出為 out0\n",
    "    out0, h0 = cell_0(x1, h0)\n",
    "    outLevel1.append(out0)\n",
    "\n",
    "# 計算第二層的所有時間步的前向計算\n",
    "for m1 in outLevel1:\n",
    "    # xt 作為輸入，輸出為 out1\n",
    "    out1, h1 = cell_1(m1, h1)"
   ]
  },
  {
   "cell_type": "code",
   "execution_count": null,
   "id": "7f9b4b75",
   "metadata": {},
   "outputs": [],
   "source": [
    "import tensorflow as tf\n",
    "from tensorflow.keras import layers\n",
    "# 創建狀態向量長度為 5 的 SimpleRNN 層\n",
    "layer = layers.SimpleRNN(5,return_sequences=True)\n",
    "# 創建輸入的資料\n",
    "data = tf.random.normal([2, 10, 20])\n",
    "# 完成一次前向運算\n",
    "out = layer(data)\n",
    "print(out.shape)"
   ]
  }
 ],
 "metadata": {
  "kernelspec": {
   "display_name": "Python 3 (ipykernel)",
   "language": "python",
   "name": "python3"
  },
  "language_info": {
   "codemirror_mode": {
    "name": "ipython",
    "version": 3
   },
   "file_extension": ".py",
   "mimetype": "text/x-python",
   "name": "python",
   "nbconvert_exporter": "python",
   "pygments_lexer": "ipython3",
   "version": "3.8.10"
  }
 },
 "nbformat": 4,
 "nbformat_minor": 5
}
