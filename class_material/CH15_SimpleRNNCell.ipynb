{
 "cells": [
  {
   "cell_type": "code",
   "execution_count": null,
   "id": "1cbb40b6",
   "metadata": {},
   "outputs": [],
   "source": [
    "from tensorflow.keras import layers\n",
    "\n",
    "hidden_dim = 3  # 隱藏層維度\n",
    "SimpleRNNCell = layers.SimpleRNNCell(hidden_dim)\n",
    "SimpleRNNCell.build(input_shape=(2,4,5))\n",
    "# 查看 SimpleRNNCell 內部可訓練的參數\n",
    "print(SimpleRNNCell.trainable_variables)"
   ]
  },
  {
   "cell_type": "markdown",
   "id": "050f8503",
   "metadata": {},
   "source": [
    "完成一個時間步的前向計算"
   ]
  },
  {
   "cell_type": "code",
   "execution_count": null,
   "id": "49c51c32",
   "metadata": {},
   "outputs": [],
   "source": [
    "import tensorflow as tf\n",
    "import tensorflow.keras as keras\n",
    "\n",
    "batch_size = 5\n",
    "time_step = 10\n",
    "embedding_dim = 20\n",
    "# 要輸入的資料\n",
    "data = tf.random.normal(shape=[batch_size,time_step,embedding_dim])\n",
    "hidden_dim = 32  # 隱藏層維度\n",
    "#  設定 h0 一開始的值\n",
    "h0 = tf.random.normal(shape=[batch_size,hidden_dim])\n",
    "x0 = data[:,0,:]  # 第一個時間的輸入資料\n",
    "simpleRNNCell = keras.layers.SimpleRNNCell(hidden_dim)\n",
    "# 完成一個時間步的運算\n",
    "out,h1 = simpleRNNCell(x0,[h0])\n",
    "print(\"out.shape : \",out.shape)\n",
    "print(\"h1[0].shape : \", h1[0].shape)\n",
    "# 查看 out 與 h1[0] 記憶體存放位址\n",
    "print(\"out :\",id(out))\n",
    "print(\"h1[0] :\", id(h1[0]))"
   ]
  },
  {
   "cell_type": "markdown",
   "id": "612677b4",
   "metadata": {},
   "source": [
    "利用SimpleRNNCell完成單層且一個序列的前向計算"
   ]
  },
  {
   "cell_type": "code",
   "execution_count": null,
   "id": "d70a46fa",
   "metadata": {},
   "outputs": [],
   "source": [
    "import tensorflow as tf\n",
    "import tensorflow.keras as keras\n",
    "\n",
    "batch_size = 5\n",
    "time_step = 10\n",
    "embedding_dim = 20\n",
    "# 要輸入的資料 (5個句子, 每個句子10個單詞)\n",
    "data = tf.random.normal(shape=[batch_size,time_step,embedding_dim])\n",
    "hidden_dim = 32  # 隱藏層維度\n",
    "#  設定 h0 一開始的值 (設定初始化狀態向量)\n",
    "h0 = tf.random.normal(shape=[batch_size,hidden_dim])\n",
    "# 建立隱藏層維度為 32 的 SimpleRNNCell\n",
    "simpleRNNCell = keras.layers.SimpleRNNCell(hidden_dim)\n",
    "h = h0\n",
    "out = 0\n",
    "# 完成一個完整序列的前向計算\n",
    "for xt in tf.unstack(data, axis=1):\n",
    "    out, h = simpleRNNCell(xt,h)\n",
    "# 最終的輸出可以集合每個時間步的輸出, 也可以取最後的時間步的結果\n",
    "out = out"
   ]
  }
 ],
 "metadata": {
  "kernelspec": {
   "display_name": "Python 3 (ipykernel)",
   "language": "python",
   "name": "python3"
  },
  "language_info": {
   "codemirror_mode": {
    "name": "ipython",
    "version": 3
   },
   "file_extension": ".py",
   "mimetype": "text/x-python",
   "name": "python",
   "nbconvert_exporter": "python",
   "pygments_lexer": "ipython3",
   "version": "3.8.10"
  }
 },
 "nbformat": 4,
 "nbformat_minor": 5
}
