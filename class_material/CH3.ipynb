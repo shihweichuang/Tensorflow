{
 "cells": [
  {
   "cell_type": "markdown",
   "id": "7bd47b41",
   "metadata": {},
   "source": [
    "# 1"
   ]
  },
  {
   "cell_type": "markdown",
   "id": "503e7224",
   "metadata": {},
   "source": [
    "確認Tensorflow安裝的版本"
   ]
  },
  {
   "cell_type": "code",
   "execution_count": null,
   "id": "c7c5fa82",
   "metadata": {},
   "outputs": [],
   "source": [
    "import tensorflow as tf\n",
    "print(tf.__version__)"
   ]
  },
  {
   "cell_type": "markdown",
   "id": "8d86f57a",
   "metadata": {},
   "source": [
    "# 2"
   ]
  },
  {
   "cell_type": "markdown",
   "id": "26748d7d",
   "metadata": {},
   "source": [
    "運行個簡單小程式"
   ]
  },
  {
   "cell_type": "code",
   "execution_count": null,
   "id": "51b0a0b8",
   "metadata": {},
   "outputs": [],
   "source": [
    "import tensorflow as tf\n",
    "A = tf.constant([[1,2],[3,4]])\n",
    "B = tf.constant([[5,6],[7,8]])\n",
    "C = tf.matmul(A,B)\n",
    "print(C)"
   ]
  },
  {
   "cell_type": "markdown",
   "id": "20cbf145",
   "metadata": {},
   "source": [
    "# 3"
   ]
  },
  {
   "cell_type": "markdown",
   "id": "bcbc4508",
   "metadata": {},
   "source": [
    "張量範例"
   ]
  },
  {
   "cell_type": "code",
   "execution_count": null,
   "id": "a74d27e6",
   "metadata": {},
   "outputs": [],
   "source": [
    "import tensorflow as tf\n",
    "w = tf.Variable([3.],dtype = tf.float32)\n",
    "x = tf.Variable([2.],dtype = tf.float32)\n",
    "b = tf.Variable([5.],dtype = tf.float32)\n",
    "print(w*x+b)\n",
    "o = tf.sigmoid(w*x+b)\n",
    "print(o)"
   ]
  },
  {
   "cell_type": "markdown",
   "id": "71938fa1",
   "metadata": {},
   "source": [
    "# 4"
   ]
  },
  {
   "cell_type": "markdown",
   "id": "84dbfd1b",
   "metadata": {},
   "source": [
    "比較 tf.constant 與 tf.Variable 差異"
   ]
  },
  {
   "cell_type": "code",
   "execution_count": null,
   "id": "9ef4d9c9",
   "metadata": {},
   "outputs": [],
   "source": [
    "import tensorflow as tf\n",
    "import numpy as np\n",
    "# 創建一個tf.constant\n",
    "a = tf.constant([1,2,3])\n",
    "print(a)\n",
    "# 轉換一個陣列為tf張量形態\n",
    "b = np.array([1,2,3])\n",
    "c = tf.convert_to_tensor(b)\n",
    "print(c)"
   ]
  },
  {
   "cell_type": "code",
   "execution_count": null,
   "id": "83ba0487",
   "metadata": {},
   "outputs": [],
   "source": [
    "import tensorflow as tf\n",
    "x = tf.Variable(initial_value=3.)\n",
    "# 在tf.GradientTape()的上下文內，所有計算步驟都會被記錄以用於推導\n",
    "with tf.GradientTape() as tape:\n",
    "    y = tf.square(x)\n",
    "y_grad = tape.gradient(y,x)\n",
    "print(y,y_grad)"
   ]
  },
  {
   "cell_type": "markdown",
   "id": "8bb16b4d",
   "metadata": {},
   "source": [
    "# 5"
   ]
  },
  {
   "cell_type": "markdown",
   "id": "8fb8f533",
   "metadata": {},
   "source": [
    "以張量實現全連接層"
   ]
  },
  {
   "cell_type": "code",
   "execution_count": null,
   "id": "61330550",
   "metadata": {},
   "outputs": [],
   "source": [
    "import tensorflow as tf\n",
    "# 創建w,b 張量\n",
    "x = tf.random.normal([3,784])           # 代表3筆資料，每筆資料有784個節點\n",
    "w1 = tf.Variable(tf.random.truncated_normal([784,10],stddev=0.1))\n",
    "b1 = tf.Variable(tf.zeros([10]))        # 偏移值先給0\n",
    "o1 = tf.matmul(x,w1)+b1                 # matmul()矩陣相乘的函數\n",
    "o1 = tf.nn.relu(o1)                     # 將結果送至relu\n",
    "print(o1.shape)                         # 確認結果是否為(3,10)"
   ]
  }
 ],
 "metadata": {
  "kernelspec": {
   "display_name": "Python 3 (ipykernel)",
   "language": "python",
   "name": "python3"
  },
  "language_info": {
   "codemirror_mode": {
    "name": "ipython",
    "version": 3
   },
   "file_extension": ".py",
   "mimetype": "text/x-python",
   "name": "python",
   "nbconvert_exporter": "python",
   "pygments_lexer": "ipython3",
   "version": "3.8.10"
  }
 },
 "nbformat": 4,
 "nbformat_minor": 5
}
