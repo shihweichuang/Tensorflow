{
 "cells": [
  {
   "cell_type": "markdown",
   "id": "80366f67",
   "metadata": {},
   "source": [
    "# 1"
   ]
  },
  {
   "cell_type": "markdown",
   "id": "20cf4067",
   "metadata": {},
   "source": [
    "四層全連接層網路"
   ]
  },
  {
   "cell_type": "code",
   "execution_count": null,
   "id": "4d687293",
   "metadata": {},
   "outputs": [],
   "source": [
    "import tensorflow as tf\n",
    "x = tf.random.normal([3,784])   # 代表3筆資料，每筆資料有784個節點\n",
    "# 創建w,b 張量\n",
    "# 隱藏層第1層權重與偏移植設定\n",
    "w1 = tf.Variable(tf.random.truncated_normal([784,256],stddev=0.1))\n",
    "b1 = tf.Variable(tf.zeros([256]))\n",
    "# 隱藏層第2層權重與偏移植設定\n",
    "w2 = tf.Variable(tf.random.truncated_normal([256,128],stddev=0.1))\n",
    "b2 = tf.Variable(tf.zeros([128]))\n",
    "# 隱藏層第3層權重與偏移植設定\n",
    "w3 = tf.Variable(tf.random.truncated_normal([128,64],stddev=0.1))\n",
    "b3 = tf.Variable(tf.zeros([64]))\n",
    "# 隱藏層第4層權重與偏移植設定\n",
    "w4 = tf.Variable(tf.random.truncated_normal([64,10],stddev=0.1))\n",
    "b4 = tf.Variable(tf.zeros([10]))\n",
    "\n",
    "# 前向計算\n",
    "# 隱藏層第1層\n",
    "o1 = x@w1+b1\n",
    "s1 = tf.nn.sigmoid(o1)\n",
    "# 隱藏層第2層\n",
    "o2 = s1@w2+b2\n",
    "s2 = tf.nn.sigmoid(o2)\n",
    "# 隱藏層第3層\n",
    "o3 = s2@w3+b3\n",
    "s3 = tf.nn.sigmoid(o3)\n",
    "# 隱藏層第4層\n",
    "o4 = s3@w4+b4\n",
    "s4 = tf.nn.sigmoid(o4)\n",
    "\n",
    "print(o4.shape)"
   ]
  },
  {
   "cell_type": "markdown",
   "id": "21f06726",
   "metadata": {},
   "source": [
    "# 2"
   ]
  },
  {
   "cell_type": "markdown",
   "id": "a5bfcdbd",
   "metadata": {},
   "source": [
    "Functional API"
   ]
  },
  {
   "cell_type": "code",
   "execution_count": null,
   "id": "d3a55574",
   "metadata": {},
   "outputs": [],
   "source": [
    "import tensorflow as tf\n",
    "from tensorflow.keras import layers  # 導入Layer類\n",
    "\n",
    "fc1 = layers.Dense(256, activation = tf.sigmoid) # 第1隱藏層\n",
    "fc2 = layers.Dense(128, activation = tf.sigmoid) # 第2隱藏層\n",
    "fc3 = layers.Dense(64, activation = tf.sigmoid)  # 第3隱藏層\n",
    "fc4 = layers.Dense(10, activation = None)        # 第4隱藏層，即為輸出層\n",
    "# 輸出不想要有記憶函數，改成None\n",
    "\n",
    "x = tf.random.normal([3,784])\n",
    "h1 = fc1(x)\n",
    "h2 = fc2(h1)\n",
    "h3 = fc3(h2)\n",
    "out = fc4(h3)\n",
    "print(out.shape)"
   ]
  },
  {
   "cell_type": "markdown",
   "id": "7a87380a",
   "metadata": {},
   "source": [
    "# 3"
   ]
  },
  {
   "cell_type": "markdown",
   "id": "a4316d8e",
   "metadata": {},
   "source": [
    "Sequential API"
   ]
  },
  {
   "cell_type": "code",
   "execution_count": null,
   "id": "a77ac9c4",
   "metadata": {},
   "outputs": [],
   "source": [
    "import tensorflow as tf\n",
    "from tensorflow.keras import layers, Sequential # 導入Layer類\n",
    "\n",
    "x = tf.random.normal([3,784])\n",
    "\n",
    "#通過Sequential容器封裝為一個網路類\n",
    "model = Sequential([\n",
    "    layers.Dense(256, activation = tf.nn.relu),\n",
    "    layers.Dense(126, activation = tf.nn.relu),\n",
    "    layers.Dense(64, activation = tf.nn.relu),\n",
    "    layers.Dense(10, activation = tf.nn.relu)\n",
    "])\n",
    "\n",
    "out = model(x) # 前向計算\n",
    "print(out.shape)"
   ]
  },
  {
   "cell_type": "markdown",
   "id": "d5e93c89",
   "metadata": {},
   "source": [
    "# 4"
   ]
  },
  {
   "cell_type": "markdown",
   "id": "8ce77d8c",
   "metadata": {},
   "source": [
    "Sequential + add()"
   ]
  },
  {
   "cell_type": "code",
   "execution_count": null,
   "id": "0d95ef59",
   "metadata": {},
   "outputs": [],
   "source": [
    "import tensorflow as tf\n",
    "from tensorflow.keras import layers, Sequential # 導入Layer類\n",
    "\n",
    "x = tf.random.normal([3,784])\n",
    "\n",
    "model = Sequential([]) # 創建一個空的網路容器\n",
    "model.add(layers.Dense(256, activation = tf.sigmoid)) # 加入隱藏層1\n",
    "model.add(layers.Dense(126, activation = tf.sigmoid)) # 加入隱藏層2\n",
    "model.add(layers.Dense(64, activation = tf.sigmoid))  # 加入隱藏層3\n",
    "model.add(layers.Dense(10, activation = None))        # 加入輸入層\n",
    "\n",
    "out = model(x) # 前向計算\n",
    "print(out.shape)"
   ]
  },
  {
   "cell_type": "markdown",
   "id": "55cf66d2",
   "metadata": {},
   "source": [
    "Sequential + model.summary()"
   ]
  },
  {
   "cell_type": "code",
   "execution_count": null,
   "id": "0735b9ea",
   "metadata": {},
   "outputs": [],
   "source": [
    "import tensorflow as tf\n",
    "from tensorflow.keras import layers, Sequential # 導入Layer類\n",
    "\n",
    "model = Sequential([])\n",
    "model.add(layers.Dense(256, activation = tf.sigmoid))\n",
    "model.add(layers.Dense(126, activation = tf.sigmoid))\n",
    "model.add(layers.Dense(64, activation = tf.sigmoid))\n",
    "model.add(layers.Dense(10, activation = None))\n",
    "\n",
    "x = tf.random.normal([3,784])\n",
    "out = model(x) # 前向計算\n",
    "print(model.summary())"
   ]
  },
  {
   "cell_type": "markdown",
   "id": "28c74a9b",
   "metadata": {},
   "source": [
    "# 5"
   ]
  },
  {
   "cell_type": "markdown",
   "id": "9707bbf4",
   "metadata": {},
   "source": [
    "利用 Model 繼承方式建立網路模型"
   ]
  },
  {
   "cell_type": "code",
   "execution_count": null,
   "id": "c3565071",
   "metadata": {},
   "outputs": [],
   "source": [
    "import tensorflow as tf\n",
    "from tensorflow.keras import layers # 導入Layer類\n",
    "\n",
    "class netModel(tf.keras.Model):\n",
    "    def __init__(self):\n",
    "        super().__init__()\n",
    "        # 創建四個全連接網路\n",
    "        self.fc1 = layers.Dense(256,activation=tf.nn.relu)\n",
    "        self.fc2 = layers.Dense(128,activation=tf.nn.relu)\n",
    "        self.fc3 = layers.Dense(64,activation=tf.nn.relu)\n",
    "        self.fc4 = layers.Dense(10)\n",
    "\n",
    "    def call(self, inputs, training = None, mask = None):\n",
    "        # 撰寫網路各層順序\n",
    "        x = self.fc1(inputs)\n",
    "        x = self.fc2(x)\n",
    "        x = self.fc3(x)\n",
    "        out = self.fc4(x)\n",
    "        return out"
   ]
  },
  {
   "cell_type": "markdown",
   "id": "5852ba65",
   "metadata": {},
   "source": [
    "接著要實體化網路"
   ]
  },
  {
   "cell_type": "code",
   "execution_count": null,
   "id": "abb76d4e",
   "metadata": {},
   "outputs": [],
   "source": [
    "input = tf.random.normal([3,784])\n",
    "# 將類別實體化\n",
    "myModel = netModel()      # 建立網路\n",
    "out = myModel(input)\n",
    "print(out.shape)          # 將輸出維度大小印出\n",
    "print(myModel.summary())  # 印出網路架構訊息"
   ]
  }
 ],
 "metadata": {
  "kernelspec": {
   "display_name": "Python 3 (ipykernel)",
   "language": "python",
   "name": "python3"
  },
  "language_info": {
   "codemirror_mode": {
    "name": "ipython",
    "version": 3
   },
   "file_extension": ".py",
   "mimetype": "text/x-python",
   "name": "python",
   "nbconvert_exporter": "python",
   "pygments_lexer": "ipython3",
   "version": "3.8.10"
  }
 },
 "nbformat": 4,
 "nbformat_minor": 5
}
