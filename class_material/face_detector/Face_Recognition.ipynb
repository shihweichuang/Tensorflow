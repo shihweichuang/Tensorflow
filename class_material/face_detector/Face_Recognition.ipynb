{
 "cells": [
  {
   "cell_type": "code",
   "execution_count": 8,
   "metadata": {},
   "outputs": [
    {
     "name": "stdout",
     "output_type": "stream",
     "text": [
      "Gal Gadot.jpg\n",
      "Johansson.jpg\n",
      "辨識結果如下 :\n",
      "Gal Gadot.jpg:相同\n",
      "Johansson.jpg:不相同\n"
     ]
    }
   ],
   "source": [
    "import os\n",
    "import face_recognition\n",
    "# 已知人臉照片的檔案路徑\n",
    "path = \"c:\\\\FaceImage\"   \n",
    "files = os.listdir(path)\n",
    "# 從目錄讀取所有的檔案至 files 中\n",
    "know_names = []\n",
    "know_faces = []\n",
    "for file in files:\n",
    "    filename = str(file)\n",
    "    print(filename)\n",
    "    know_names.append(filename)\n",
    "    image = face_recognition.load_image_file(path+\"\\\\\"+filename)\n",
    "    encoding = face_recognition.face_encodings(image)[0]\n",
    "    know_faces.append(encoding)\n",
    "\n",
    "unknown_Image = face_recognition.load_image_file(\"c:\\\\TestFace\\\\test.jpg\")\n",
    "unknown_face = face_recognition.face_encodings(unknown_Image)[0]\n",
    "results = face_recognition.compare_faces(know_faces,unknown_face, tolerance=0.36)\n",
    "print(\"辨識結果如下 :\")\n",
    "for i in range(len(know_names)):\n",
    "    print(know_names[i]+\":\",end=\"\")\n",
    "    if results[i]:\n",
    "        print(\"相同\")\n",
    "    else:\n",
    "        print(\"不相同\")"
   ]
  },
  {
   "cell_type": "code",
   "execution_count": null,
   "metadata": {},
   "outputs": [],
   "source": []
  }
 ],
 "metadata": {
  "kernelspec": {
   "display_name": "Python [conda env:Dlib_Face]",
   "language": "python",
   "name": "conda-env-Dlib_Face-py"
  },
  "language_info": {
   "codemirror_mode": {
    "name": "ipython",
    "version": 3
   },
   "file_extension": ".py",
   "mimetype": "text/x-python",
   "name": "python",
   "nbconvert_exporter": "python",
   "pygments_lexer": "ipython3",
   "version": "3.8.16"
  }
 },
 "nbformat": 4,
 "nbformat_minor": 4
}
