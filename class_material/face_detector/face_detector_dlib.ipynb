{
 "cells": [
  {
   "cell_type": "code",
   "execution_count": 2,
   "metadata": {
    "scrolled": true
   },
   "outputs": [
    {
     "name": "stdout",
     "output_type": "stream",
     "text": [
      "人臉數: 2\n"
     ]
    }
   ],
   "source": [
    "import dlib\n",
    "from skimage import io\n",
    "# 使用 Dlib 的正面人臉檢測器 front_face_detector (取得預設的臉部偵測器)\n",
    "detector = dlib.get_frontal_face_detector()\n",
    "# 根據shape_predictor方法載入68個特徵點模型，此方法為人臉表情識別的偵測器 (Dlib 的68點模型)\n",
    "modelname = \"shape_predictor_68_face_landmarks.dat\"\n",
    "predictor = dlib.shape_predictor(modelname)\n",
    "img = io.imread(\"twice.jpg\")\n",
    "# 生成 Dlib 的影像視窗\n",
    "win = dlib.image_window()\n",
    "# 顯示要檢測的影像\n",
    "win.set_image(img)\n",
    "# 使用 detector 檢測器來檢測影像中的人臉\n",
    "faces = detector(img,1)\n",
    "print(\"人臉數:\",len(faces))"
   ]
  },
  {
   "cell_type": "code",
   "execution_count": 3,
   "metadata": {},
   "outputs": [
    {
     "name": "stdout",
     "output_type": "stream",
     "text": [
      "第 1 個人臉的矩形框座標 : left: 104 right: 179 top: 55 bottom: 130\n",
      "第 2 個人臉的矩形框座標 : left: 237 right: 312 top: 88 bottom: 163\n"
     ]
    }
   ],
   "source": [
    "# 繪製矩形輪廓\n",
    "win.add_overlay(faces)\n",
    "# 繪製兩個 overlay, 人臉外接矩形框與面部特徵框\n",
    "\n",
    "for i, d in enumerate(faces):\n",
    "    print(\"第\", i+1, \"個人臉的矩形框座標 :\", \"left:\",d.left(),\n",
    "         \"right:\",d.right(), \"top:\",d.top(),\"bottom:\",d.bottom())\n",
    "    # 使用 predictor 來計算面部輪廓\n",
    "    shape = predictor(img, faces[i])\n",
    "    # 繪製面部輪廓\n",
    "    win.add_overlay(shape)\n",
    "\n",
    "# 保持影像\n",
    "dlib.hit_enter_to_continue()\n"
   ]
  },
  {
   "cell_type": "code",
   "execution_count": null,
   "metadata": {},
   "outputs": [],
   "source": []
  }
 ],
 "metadata": {
  "kernelspec": {
   "display_name": "Python [conda env:Dlib_Face]",
   "language": "python",
   "name": "dlib_face"
  },
  "language_info": {
   "codemirror_mode": {
    "name": "ipython",
    "version": 3
   },
   "file_extension": ".py",
   "mimetype": "text/x-python",
   "name": "python",
   "nbconvert_exporter": "python",
   "pygments_lexer": "ipython3",
   "version": "3.8.16"
  }
 },
 "nbformat": 4,
 "nbformat_minor": 4
}
