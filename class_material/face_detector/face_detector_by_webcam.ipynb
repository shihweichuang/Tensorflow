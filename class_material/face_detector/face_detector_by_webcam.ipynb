{
 "cells": [
  {
   "cell_type": "code",
   "execution_count": 1,
   "metadata": {},
   "outputs": [
    {
     "name": "stdout",
     "output_type": "stream",
     "text": [
      "27\n"
     ]
    }
   ],
   "source": [
    "import cv2 as cv\n",
    "import dlib\n",
    "# 使用 Dlib 的正面人臉檢測器 front_face_detector (取得預設的臉部偵測器)\n",
    "detector = dlib.get_frontal_face_detector()\n",
    "# 利用官方提供的模型建構特徵提取器\n",
    "modelname = \"shape_predictor_68_face_landmarks.dat\"\n",
    "predictor = dlib.shape_predictor(modelname)\n",
    "# 選擇第一隻攝影機\n",
    "cap = cv.VideoCapture(0)\n",
    "#當攝影機打開時，對每個frame進行偵測\n",
    "while cap.isOpened():\n",
    "    #讀出frame資訊\n",
    "    ret, frame = cap.read()\n",
    "    #給68特徵點辨識取得一個轉換顏色的frame (BGR必須轉換成RGB)\n",
    "    img = cv.cvtColor(frame, cv.COLOR_BGR2RGB)\n",
    "    # 使用 detector 檢測器來檢測影像中的人臉\n",
    "    faces = detector(img,0)\n",
    "    # 使用 enumerate 函數遍歷序列中的元素以及他們的下標\n",
    "    # k 即為人臉序號\n",
    "    for k, d in enumerate(faces):\n",
    "        # 使用 predictor 進行人臉關鍵點辨識, shape 為傳回的結果\n",
    "        shape = predictor(img, d)\n",
    "        #繪製68個特徵點 (shape.part(i)是第i個特徵點)\n",
    "        for index, pt in enumerate(shape.parts()):\n",
    "            pt_pos = (pt.x, pt.y)\n",
    "            cv.circle(frame, pt_pos, 1, (0,255,0),2)\n",
    "            font = cv.FONT_HERSHEY_SIMPLEX\n",
    "            cv.putText(frame, str(index+1),pt_pos,font,0.3,(0,0,255),1,cv.LINE_AA)\n",
    "    cv.imshow(\"Frame\", frame)\n",
    "    key = cv.waitKey(10)\n",
    "    if key == 27:   # 當按下 Esc 鍵時離開\n",
    "        print(key)\n",
    "        break\n",
    "cap.release()\n",
    "cv.destroyAllWindows()           "
   ]
  },
  {
   "cell_type": "code",
   "execution_count": null,
   "metadata": {},
   "outputs": [],
   "source": []
  },
  {
   "cell_type": "code",
   "execution_count": null,
   "metadata": {},
   "outputs": [],
   "source": []
  }
 ],
 "metadata": {
  "kernelspec": {
   "display_name": "Python [conda env:Dlib_Face]",
   "language": "python",
   "name": "dlib_face"
  },
  "language_info": {
   "codemirror_mode": {
    "name": "ipython",
    "version": 3
   },
   "file_extension": ".py",
   "mimetype": "text/x-python",
   "name": "python",
   "nbconvert_exporter": "python",
   "pygments_lexer": "ipython3",
   "version": "3.8.16"
  }
 },
 "nbformat": 4,
 "nbformat_minor": 4
}
