{
 "cells": [
  {
   "cell_type": "markdown",
   "id": "da9f65b7",
   "metadata": {},
   "source": [
    "# Embedding"
   ]
  },
  {
   "cell_type": "code",
   "execution_count": null,
   "id": "60e2a4e5",
   "metadata": {},
   "outputs": [],
   "source": [
    "import tensorflow as tf\n",
    "from tensorflow.keras import layers\n",
    "\n",
    "x = tf.range(10)  # 產生10個單詞的index\n",
    "# 創建 10 個單詞, 每個單詞長度為 3 的 Word Embedding層\n",
    "embeddingnet = layers.Embedding(10,3)\n",
    "out = embeddingnet(x)\n",
    "print(out)"
   ]
  },
  {
   "cell_type": "code",
   "execution_count": null,
   "id": "59001d42",
   "metadata": {},
   "outputs": [],
   "source": [
    "# 得到 embedding 層參數\n",
    "print(embeddingnet.embeddings)\n",
    "# 查看參數是否是可以訓練的\n",
    "print(embeddingnet.embeddings.trainable)"
   ]
  }
 ],
 "metadata": {
  "kernelspec": {
   "display_name": "Python 3 (ipykernel)",
   "language": "python",
   "name": "python3"
  },
  "language_info": {
   "codemirror_mode": {
    "name": "ipython",
    "version": 3
   },
   "file_extension": ".py",
   "mimetype": "text/x-python",
   "name": "python",
   "nbconvert_exporter": "python",
   "pygments_lexer": "ipython3",
   "version": "3.8.10"
  }
 },
 "nbformat": 4,
 "nbformat_minor": 5
}
