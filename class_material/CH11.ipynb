{
 "cells": [
  {
   "cell_type": "markdown",
   "id": "5afda32e",
   "metadata": {},
   "source": [
    "# 1"
   ]
  },
  {
   "cell_type": "markdown",
   "id": "745efa53",
   "metadata": {},
   "source": [
    "通過TensorFlow快速地搭建圖上網路模型，並觀察權重個數"
   ]
  },
  {
   "cell_type": "code",
   "execution_count": null,
   "id": "8f9f0821",
   "metadata": {},
   "outputs": [],
   "source": [
    "from tensorflow.keras.models import Sequential\n",
    "from tensorflow.keras import layers\n",
    "\n",
    "model = Sequential([\n",
    "    layers.Flatten(input_shape=(28, 28)),  # 將進來的格式攤平，另攤平不用計算權重=>將輸入資料從 28x28 攤平成 784\n",
    "    layers.Dense(256, activation='relu'),\n",
    "    layers.Dense(128, activation='relu'),\n",
    "    layers.Dense(64, activation='relu'),\n",
    "    layers.Dense(10, activation='softmax') # output 為 10 個 class\n",
    "])\n",
    "print(model.summary())"
   ]
  },
  {
   "cell_type": "markdown",
   "id": "9ff54a41",
   "metadata": {},
   "source": [
    "# 2"
   ]
  },
  {
   "cell_type": "code",
   "execution_count": null,
   "id": "0e5fd8ff",
   "metadata": {},
   "outputs": [],
   "source": [
    "import cv2\n",
    "import numpy as np\n",
    "import matplotlib.pyplot as plt\n",
    "# 讀入影像\n",
    "src = cv2.imread(\"Lenna.jpg\")\n",
    "kernel = np.array([[-1,0,1],\n",
    "                  [-2,0,2],\n",
    "                  [-1,0,1]],dtype=\"float32\")\n",
    "# 卷積運算\n",
    "image = cv2.filter2D(src,-1,kernel)\n",
    "htich = np.hstack((src, image))\n",
    "plt.imshow(htich)\n",
    "plt.show()"
   ]
  },
  {
   "cell_type": "markdown",
   "id": "a699911a",
   "metadata": {},
   "source": [
    "# 3"
   ]
  },
  {
   "cell_type": "code",
   "execution_count": null,
   "id": "8924d9d8",
   "metadata": {},
   "outputs": [],
   "source": [
    "import cv2\n",
    "import numpy as np\n",
    "import matplotlib.pyplot as plt\n",
    "# 讀入影像\n",
    "src = cv2.imread(\"Lenna.jpg\")\n",
    "kernel = np.array([[-1,-2,-1],\n",
    "                  [0,0,0],\n",
    "                  [1,2,1]],dtype=\"float32\")\n",
    "# 卷積運算\n",
    "image = cv2.filter2D(src,-1,kernel)\n",
    "htich = np.hstack((src, image))\n",
    "plt.imshow(htich)\n",
    "plt.show()"
   ]
  },
  {
   "cell_type": "markdown",
   "id": "338156a5",
   "metadata": {},
   "source": [
    "# 4"
   ]
  },
  {
   "cell_type": "code",
   "execution_count": null,
   "id": "2b5cec46",
   "metadata": {},
   "outputs": [],
   "source": [
    "import tensorflow as tf\n",
    "\n",
    "# 輸入格式 [batch，in_height，in_width，in_channels]\n",
    "x = tf.random.normal([1,7,7,1])\n",
    "# filter 維度格式為[filter_height，filter_width，in_channels，out_channels]\n",
    "filter = tf.random.normal([3,3,1,2])\n",
    "out = tf.nn.conv2d(input=x,filters=filter,strides=[1,1,1,1],padding='VALID')\n",
    "# stridies中間兩個數值：橫的跨多少，縱的跨多少\n",
    "print(out.shape)"
   ]
  },
  {
   "cell_type": "markdown",
   "id": "ef722e51",
   "metadata": {},
   "source": [
    "# 5"
   ]
  },
  {
   "cell_type": "code",
   "execution_count": null,
   "id": "878fa298",
   "metadata": {},
   "outputs": [],
   "source": [
    "import tensorflow as tf\n",
    "\n",
    "# 輸入格式 [batch，in_height，in_width，in_channels]\n",
    "x = tf.random.normal([1,7,7,1])\n",
    "# filter 維度格式為[filter_height，filter_width，in_channels，out_channels]\n",
    "filter = tf.random.normal([3,3,1,2])\n",
    "out = tf.nn.conv2d(input=x,filters=filter,strides=[1,1,1,1],padding='SAME')\n",
    "print(out.shape)"
   ]
  },
  {
   "cell_type": "markdown",
   "id": "58a04252",
   "metadata": {},
   "source": [
    "# 6"
   ]
  },
  {
   "cell_type": "code",
   "execution_count": null,
   "id": "fbce515a",
   "metadata": {},
   "outputs": [],
   "source": [
    "import tensorflow as tf\n",
    "from tensoflow.keras.layers import (Input, Conv2D)\n",
    "\n",
    "# 輸入格式 [batch，in_height，in_width，in_channels]\n",
    "input = Input(shape = (6,6,3))\n",
    "# 設定卷積核尺寸為(3,3)，上下步伐為1，且不填充0\n",
    "out = Conv2d(2,(3,3), strides=(1,1), padding='valid')(input)\n",
    "print(out.shape)"
   ]
  },
  {
   "cell_type": "markdown",
   "id": "4210527d",
   "metadata": {},
   "source": [
    "# 7"
   ]
  },
  {
   "cell_type": "code",
   "execution_count": null,
   "id": "06b70287",
   "metadata": {},
   "outputs": [],
   "source": [
    "import tensorflow as tf\n",
    "from tensorflow.keras.models import Sequential\n",
    "from tensorflow.keras.layers import Conv2D\n",
    "\n",
    "CNNModel = Sequential()\n",
    "# 加入一個卷積層\n",
    "CNNModel.add(Conv2D(filters=1,             # 設定 filter 個數\n",
    "                    kernel_size=(3,3),     # 設定 filter 大小\n",
    "                    kernel_initializer= tf.keras.initializers.ones(),\n",
    "                    input_shape=(5,5,1),   # (高,寬,通道數)\n",
    "                    activation='relu'))    # 設定激勵函數\n",
    "\n",
    "# 輸入 [1組資料, 高為5, 寬為5, 通道數為 1]\n",
    "x = tf.random.normal([1,5,5,1])\n",
    "# 前項計算\n",
    "out = CNNModel(x)\n",
    "print(out)"
   ]
  },
  {
   "cell_type": "markdown",
   "id": "d6e36db4",
   "metadata": {},
   "source": [
    "# 8"
   ]
  },
  {
   "cell_type": "markdown",
   "id": "715437e2",
   "metadata": {},
   "source": [
    "在Tensorflow中，tf.nn.max_pool()可以實現最大池化計算"
   ]
  },
  {
   "cell_type": "code",
   "execution_count": null,
   "id": "51b7e4ec",
   "metadata": {},
   "outputs": [],
   "source": [
    "import tensorflow as tf\n",
    "# 定義一個 feature_map\n",
    "feature_map = tf.constant([\n",
    "     [0.0,4.0,3.0,2.5],\n",
    "     [2.0,1.0,1.5,3.0],\n",
    "     [3.0,2.0,4.0,6.0],\n",
    "     [2.0,6.0,2.0,6.0]])\n",
    "# 印出維度\n",
    "print(feature_map.shape)\n",
    "# 在 dim = 0 插入一個維度\n",
    "feature_map = tf.expand_dims(feature_map,0)\n",
    "print(feature_map.shape)\n",
    "# 在 dim = 3 插入一個維度 =>目的要讓他變成　(1,4,4,1)\n",
    "feature_map = tf.expand_dims(feature_map,-1)\n",
    "print(feature_map.shape)\n",
    "\n",
    "## 定義池化層\n",
    "## 池化窗口2*2，高寬方向步長都為 1\n",
    "pooling = tf.nn.max_pool(input = feature_map,\n",
    "                         ksize = [1,2,2,1],\n",
    "                         strides = [1,1,1,1],\n",
    "                         padding='VALID')\n",
    "print(pooling)"
   ]
  },
  {
   "cell_type": "markdown",
   "id": "571890ed",
   "metadata": {},
   "source": [
    "# 9"
   ]
  },
  {
   "cell_type": "markdown",
   "id": "9a929570",
   "metadata": {},
   "source": [
    "在 Tensorflow 中，tf.nn.avg_pool() 可以實現平均池化計算"
   ]
  },
  {
   "cell_type": "code",
   "execution_count": null,
   "id": "99df1193",
   "metadata": {},
   "outputs": [],
   "source": [
    "import tensorflow as tf\n",
    "# 定義一個 feature_map\n",
    "feature_map = tf.constant([\n",
    "     [0.0,4.0,3.0,2.5],\n",
    "     [2.0,1.0,1.5,3.0],\n",
    "     [3.0,2.0,4.0,6.0],\n",
    "     [2.0,6.0,2.0,6.0]])\n",
    "# 在 dim = 0 插入一個維度\n",
    "feature_map = tf.expand_dims(feature_map,0)\n",
    "# 在 dim = 3 插入一個維度 =>目的要讓他變成　(1,4,4,1)\n",
    "feature_map = tf.expand_dims(feature_map,-1)\n",
    "\n",
    "## 定義池化層\n",
    "## 池化窗口2*2，高寬方向步長都為 1\n",
    "pooling = tf.nn.avg_pool(input = feature_map,\n",
    "                         ksize = [1,2,2,1],\n",
    "                         strides = [1,1,1,1],\n",
    "                         padding='VALID')\n",
    "print(pooling)"
   ]
  },
  {
   "cell_type": "markdown",
   "id": "87b2d134",
   "metadata": {},
   "source": [
    "# 10"
   ]
  },
  {
   "cell_type": "markdown",
   "id": "a65552b0",
   "metadata": {},
   "source": [
    "展平層：攤平(Flatten)這個步驟主要是要銜接CNN層與全連接層，主要是因為FC層需要一維的輸入。"
   ]
  },
  {
   "cell_type": "code",
   "execution_count": null,
   "id": "5b23d22c",
   "metadata": {},
   "outputs": [],
   "source": [
    "import tensorflow as tf\n",
    "from tensorflow.keras.models import Sequential\n",
    "from tensorflow.keras.layers import Flatten\n",
    "\n",
    "CNNModel = Sequential()\n",
    "# 加入一個展平層\n",
    "CNNModel.add(Flatten())\n",
    "# 輸入 [3組資料, 高為5, 寬為5, 通道數為 3]\n",
    "x = tf.random.normal([3,5,5,3])\n",
    "# 前項計算\n",
    "out = CNNModel(x)\n",
    "print(out.shape)"
   ]
  },
  {
   "cell_type": "markdown",
   "id": "ad9a3304",
   "metadata": {},
   "source": [
    "# 11"
   ]
  },
  {
   "cell_type": "code",
   "execution_count": null,
   "id": "b1026b44",
   "metadata": {},
   "outputs": [],
   "source": [
    "import tensorflow as tf\n",
    "from tensorflow.keras.models import Sequential\n",
    "from tensorflow.keras.layers import Flatten\n",
    "\n",
    "CNNModel = Sequential()\n",
    "# 加入一個展平層\n",
    "CNNModel.add(Flatten())\n",
    "# 輸入 [3組資料, 高為5, 寬為5, 通道數為 3]\n",
    "x = tf.random.normal([3,5,5,3])\n",
    "# 前項計算\n",
    "out = CNNModel(x)\n",
    "print(out.shape)"
   ]
  }
 ],
 "metadata": {
  "kernelspec": {
   "display_name": "Python 3 (ipykernel)",
   "language": "python",
   "name": "python3"
  },
  "language_info": {
   "codemirror_mode": {
    "name": "ipython",
    "version": 3
   },
   "file_extension": ".py",
   "mimetype": "text/x-python",
   "name": "python",
   "nbconvert_exporter": "python",
   "pygments_lexer": "ipython3",
   "version": "3.8.10"
  }
 },
 "nbformat": 4,
 "nbformat_minor": 5
}
