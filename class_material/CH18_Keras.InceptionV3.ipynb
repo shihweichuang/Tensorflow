{
 "cells": [
  {
   "cell_type": "markdown",
   "id": "f8bfdbf8",
   "metadata": {},
   "source": [
    "# 範例二：使用InceptionV3 模型進行影像辨識"
   ]
  },
  {
   "cell_type": "code",
   "execution_count": null,
   "id": "c97b192d",
   "metadata": {},
   "outputs": [],
   "source": [
    "from tensorflow.keras.preprocessing.image import img_to_array\n",
    "from tensorflow.keras.preprocessing.image import load_img\n",
    "from tensorflow.keras.applications.inception_v3 import InceptionV3\n",
    "from tensorflow.keras.applications.inception_v3 import preprocess_input\n",
    "from tensorflow.keras.applications.inception_v3 import decode_predictions\n",
    "\n",
    "# 建立 InceptionV3 模型\n",
    "model = InceptionV3(weights=\"imagenet\", include_top=True) \n",
    "# 載入測試圖片\n",
    "img = load_img(\"koala.png\", target_size=(299, 299))\n",
    "x = img_to_array(img)    # 轉換成 Numpy陣列\n",
    "print(\"x.shape: \", x.shape)\n",
    "# Reshape (1, 299, 299, 3)\n",
    "img = x.reshape((1, x.shape[0], x.shape[1], x.shape[2]))\n",
    "# 資料預處理\n",
    "img = preprocess_input(img)\n",
    "print(\"img.shape: \", img.shape)\n",
    "# 使用模型進行預測\n",
    "Y_pred = model.predict(img)\n",
    "# 解碼預測結果\n",
    "label = decode_predictions(Y_pred)\n",
    "result = label[0][0]  # 取得最可能的結果\n",
    "print(\"%s (%.2f%%)\" % (result[1], result[2]*100))"
   ]
  }
 ],
 "metadata": {
  "kernelspec": {
   "display_name": "Python 3 (ipykernel)",
   "language": "python",
   "name": "python3"
  },
  "language_info": {
   "codemirror_mode": {
    "name": "ipython",
    "version": 3
   },
   "file_extension": ".py",
   "mimetype": "text/x-python",
   "name": "python",
   "nbconvert_exporter": "python",
   "pygments_lexer": "ipython3",
   "version": "3.8.10"
  }
 },
 "nbformat": 4,
 "nbformat_minor": 5
}
