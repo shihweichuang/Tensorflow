{
 "cells": [
  {
   "cell_type": "markdown",
   "id": "183f5625",
   "metadata": {},
   "source": [
    "LSTM層與LSTMCell層的差異在於LSTM層在於可以方便的一次完成整個序列的運算。"
   ]
  },
  {
   "cell_type": "code",
   "execution_count": null,
   "id": "441bb6e7",
   "metadata": {},
   "outputs": [],
   "source": [
    "import tensorflow as tf\n",
    "from tensorflow.keras import layers\n",
    "# 建立輸入資訊 (批次大小, 每句單詞數目, 單詞特徵數)\n",
    "inputs = tf.random.normal([2, 10, 8])\n",
    "# 創建 LSTM, 輸出空間為度為 32\n",
    "LSTM = layers.LSTM(32)\n",
    "# 完成前向運算\n",
    "out = LSTM(inputs)\n",
    "print(out.shape)"
   ]
  },
  {
   "cell_type": "markdown",
   "id": "dd8bfb02",
   "metadata": {},
   "source": [
    "返回每個時間步完成的輸出：如果需要返回每個時間步完成的輸出，則必須要設定參數 return_sequences = True。"
   ]
  },
  {
   "cell_type": "code",
   "execution_count": null,
   "id": "c7eaa6d5",
   "metadata": {},
   "outputs": [],
   "source": [
    "import tensorflow as tf\n",
    "from tensorflow.keras import layers\n",
    "# 建立輸入資訊 (批次大小, 每句單詞數目, 單詞特徵數)\n",
    "inputs = tf.random.normal([2, 5, 8])\n",
    "# 創建 LSTM, 輸出空間為度為 32\n",
    "LSTM = layers.LSTM(32, return_sequences=True)\n",
    "output = LSTM(inputs)\n",
    "print(\"output.shape\",output.shape)"
   ]
  }
 ],
 "metadata": {
  "kernelspec": {
   "display_name": "Python 3 (ipykernel)",
   "language": "python",
   "name": "python3"
  },
  "language_info": {
   "codemirror_mode": {
    "name": "ipython",
    "version": 3
   },
   "file_extension": ".py",
   "mimetype": "text/x-python",
   "name": "python",
   "nbconvert_exporter": "python",
   "pygments_lexer": "ipython3",
   "version": "3.8.10"
  }
 },
 "nbformat": 4,
 "nbformat_minor": 5
}
