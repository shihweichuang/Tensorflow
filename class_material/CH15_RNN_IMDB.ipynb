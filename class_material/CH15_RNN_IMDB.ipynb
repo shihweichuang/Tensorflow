{
 "cells": [
  {
   "cell_type": "markdown",
   "id": "b6b9a89c",
   "metadata": {},
   "source": [
    "(1) 下載IMDB數據集與資料預處理"
   ]
  },
  {
   "cell_type": "code",
   "execution_count": null,
   "id": "9c1acd80",
   "metadata": {},
   "outputs": [],
   "source": [
    "import tensorflow as tf\n",
    "from tensorflow.keras.datasets import imdb\n",
    "from tensorflow.keras.preprocessing import sequence\n",
    "\n",
    "max_words = 100\n",
    "batch_sizes = 128\n",
    "# 載入 imdb 資料集\n",
    "(train_data, train_labels), (test_data, test_labels) = \\\n",
    "    imdb.load_data(num_words=10000)\n",
    "print(len(train_data))  # 印出訓練集的筆數\n",
    "print(len(test_data))   # 印出測試集的筆數\n",
    "# 讓所有的影評資料保持在 100個字\n",
    "train_data_new = sequence.pad_sequences(train_data,maxlen=max_words)\n",
    "test_data_new = sequence.pad_sequences(test_data,maxlen=max_words)\n",
    "db_train = tf.data.Dataset.from_tensor_slices((train_data_new,train_labels))\n",
    "# 參數 drop_remainder = true 代表當最後一批少於 batch_size元素的情况下就刪除\n",
    "# 將訓練資料打散\n",
    "db_train = db_train.shuffle(1000).batch(batch_sizes,drop_remainder=True)\n",
    "db_test = tf.data.Dataset.from_tensor_slices((test_data_new,train_labels))\n",
    "db_test = db_test.batch(batch_sizes,drop_remainder=True)"
   ]
  },
  {
   "cell_type": "markdown",
   "id": "57f9a974",
   "metadata": {},
   "source": [
    "(2) 建立RNN模型"
   ]
  },
  {
   "cell_type": "code",
   "execution_count": null,
   "id": "47e7904d",
   "metadata": {},
   "outputs": [],
   "source": [
    "from tensorflow.keras.models import Sequential\n",
    "from tensorflow.keras import layers\n",
    "\n",
    "vocab_size = 10000\n",
    "model = Sequential()\n",
    "model.add(layers.Embedding( vocab_size,\n",
    "                            output_dim=120,\n",
    "                            input_length= max_words))\n",
    "# 除了最上面那一層之外, 其他層的輸出都必須做為下一層的輸入\n",
    "model.add(layers.SimpleRNN(units=64,return_sequences=True,\n",
    "                           dropout=0.25))\n",
    "model.add(layers.SimpleRNN(units=64,dropout=0.25))\n",
    "model.add(layers.Dense(units=1,activation='sigmoid'))\n",
    "print(model.summary())"
   ]
  },
  {
   "cell_type": "markdown",
   "id": "77314327",
   "metadata": {},
   "source": [
    "(3) 模型編譯與訓練"
   ]
  },
  {
   "cell_type": "code",
   "execution_count": null,
   "id": "7591dd19",
   "metadata": {},
   "outputs": [],
   "source": [
    "model.compile(loss='binary_crossentropy',\n",
    "              optimizer= 'adam',\n",
    "              metrics=['accuracy'])\n",
    "history = model.fit(db_train,batch_size=batch_sizes,\n",
    "                    epochs=10,verbose=2)"
   ]
  }
 ],
 "metadata": {
  "kernelspec": {
   "display_name": "Python 3 (ipykernel)",
   "language": "python",
   "name": "python3"
  },
  "language_info": {
   "codemirror_mode": {
    "name": "ipython",
    "version": 3
   },
   "file_extension": ".py",
   "mimetype": "text/x-python",
   "name": "python",
   "nbconvert_exporter": "python",
   "pygments_lexer": "ipython3",
   "version": "3.8.10"
  }
 },
 "nbformat": 4,
 "nbformat_minor": 5
}
