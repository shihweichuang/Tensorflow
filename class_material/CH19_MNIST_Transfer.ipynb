{
 "cells": [
  {
   "cell_type": "markdown",
   "id": "290618d6",
   "metadata": {},
   "source": [
    "# MNIST手寫辨識遷移學習"
   ]
  },
  {
   "cell_type": "code",
   "execution_count": null,
   "id": "8f715633",
   "metadata": {},
   "outputs": [],
   "source": [
    "import numpy as np\n",
    "import tensorflow as tf\n",
    "from tensorflow.keras.datasets import mnist\n",
    "from tensorflow.keras.models import Sequential\n",
    "from tensorflow.keras.layers import Dense, Conv2D, Flatten, MaxPooling2D\n",
    "from tensorflow.keras.optimizers import SGD\n",
    "# tf.Keras utilis function\n",
    "from tensorflow.keras.utils import to_categorical\n",
    "\n",
    "(train_data, train_label), (test_data,test_label) = mnist.load_data()\n",
    "print(\"共有 %d 訓練資料，每張圖的大小為 %d x %d\" %train_data.shape)\n",
    "print(\"共有 %d 測試資料，每張圖的大小為 %d x %d\" %test_data.shape)"
   ]
  },
  {
   "cell_type": "markdown",
   "id": "82a2fa6f",
   "metadata": {},
   "source": [
    "這邊的訓練資料要分成兩部分，第一部分是前面五個數字(0-5)，此資料是用來作預訓練，而第二部分是後面五個數字(6-9)，此資料是要用來做遷移學習。"
   ]
  },
  {
   "cell_type": "code",
   "execution_count": null,
   "id": "71d3dde0",
   "metadata": {},
   "outputs": [],
   "source": [
    "train_data_first5 = train_data[train_label<5]\n",
    "train_label_first5 = train_label[train_label<5]\n",
    "test_data_first5 = test_data[test_label<5]\n",
    "test_label_first5 = test_label[test_label<5]\n",
    "print(train_data_first5.shape)\n",
    "print(train_label_first5.shape)\n",
    "train_data_last5 = train_data[train_label>=5] # 訓練資料 下載大於5的圖\n",
    "# 將標籤 5-9 改為 0-4\n",
    "train_label_last5 = train_label[train_label>=5]-5 # 訓練資料 5>0，6>1，7>2，8>3，9>4\n",
    "test_data_last5 = test_data[test_label>=5] # 測試資料 下載大於5的圖\n",
    "test_label_last5 = test_label[test_label>=5]-5 # 測試資料"
   ]
  },
  {
   "cell_type": "markdown",
   "id": "4f715cc3",
   "metadata": {},
   "source": [
    "資料前處理與維度轉換\n",
    "\n",
    "首先我們先將資料內容的範圍由0-255轉成0-1，此外，這邊也將圖片的維度改為4維張量並改為浮點數型別"
   ]
  },
  {
   "cell_type": "code",
   "execution_count": null,
   "id": "f299892b",
   "metadata": {},
   "outputs": [],
   "source": [
    "# 資料前處理與維度轉換\n",
    "def preprocess(x):\n",
    "    x = tf.cast(x, dtype = tf.float32)/255\n",
    "    x = tf.reshape(x,[x.shape[0],28,28,1])\n",
    "    return x\n",
    "\n",
    "train_data_first5 = preprocess(train_data_first5)\n",
    "test_data_first5 = preprocess(test_data_first5)\n",
    "train_data_last5 = preprocess(train_data_last5)\n",
    "test_data_last5 = preprocess(test_data_last5)"
   ]
  },
  {
   "cell_type": "markdown",
   "id": "73539859",
   "metadata": {},
   "source": [
    "將標籤(label)轉換成 one-hot encoding 的形式"
   ]
  },
  {
   "cell_type": "code",
   "execution_count": null,
   "id": "e9773537",
   "metadata": {},
   "outputs": [],
   "source": [
    "train_label_first5 = to_categorical(train_label_first5,5)\n",
    "test_label_first5 = to_categorical(test_label_first5,5)\n",
    "train_label_last5 = to_categorical(train_label_last5,5)\n",
    "test_label_last5 = to_categorical(test_label_last5,5)\n",
    "print(train_label_first5.shape)"
   ]
  },
  {
   "cell_type": "markdown",
   "id": "1097d0ce",
   "metadata": {},
   "source": [
    "建立卷積神經網路層(這邊我們使用兩層卷積層與兩層池化層)"
   ]
  },
  {
   "cell_type": "code",
   "execution_count": null,
   "id": "b2a3b06f",
   "metadata": {},
   "outputs": [],
   "source": [
    "model = Sequential()\n",
    "model.add(Conv2D(32, kernel_size = (3,3),\n",
    "                 input_shape=(28,28,1),activation = \"relu\"))\n",
    "model.add(MaxPooling2D(pool_size=(2,2)))\n",
    "model.add(Conv2D(16, kernel_size = (3,3),activation = \"relu\"))\n",
    "model.add(MaxPooling2D(pool_size=(2,2)))\n",
    "model.add(Flatten())\n",
    "model.add(Dense(64, activation = \"relu\"))\n",
    "model.add(Dense(5, activation = \"softmax\"))\n",
    "model.summary()"
   ]
  },
  {
   "cell_type": "markdown",
   "id": "d643ac8e",
   "metadata": {},
   "source": [
    "編譯與訓練模型"
   ]
  },
  {
   "cell_type": "code",
   "execution_count": null,
   "id": "d9c3c65b",
   "metadata": {},
   "outputs": [],
   "source": [
    "model.compile(loss = \"categorical_crossentropy\", optimizer = \"adam\",\n",
    "             metrics=[\"accuracy\"])\n",
    "history = model.fit(train_data_first5,train_label_first5,\n",
    "                    validation_split = 0.2,\n",
    "                    epochs=5, batch_size = 64,verbose=2)"
   ]
  },
  {
   "cell_type": "markdown",
   "id": "d35e6e89",
   "metadata": {},
   "source": [
    "凍結模型"
   ]
  },
  {
   "cell_type": "code",
   "execution_count": null,
   "id": "fa222d7c",
   "metadata": {},
   "outputs": [],
   "source": [
    "print(len(model.layers))\n",
    "for i in range(len(model.layers)):\n",
    "    print(i, model.layers[i])"
   ]
  },
  {
   "cell_type": "markdown",
   "id": "b3a879a4",
   "metadata": {},
   "source": [
    "由上述程式碼中可以看到網路共有七層，這邊我們必須凍結0-3層，所謂凍結的意思是指該層的權重參數不再訓練。"
   ]
  },
  {
   "cell_type": "code",
   "execution_count": null,
   "id": "712b180d",
   "metadata": {},
   "outputs": [],
   "source": [
    "for i in range(4):\n",
    "    model.layers[i].trainable = False"
   ]
  },
  {
   "cell_type": "markdown",
   "id": "3edf594f",
   "metadata": {},
   "source": [
    "因此第二次訓練的時候只訓練後面的三層，這邊要特別注意的是我們仍須再次編譯模型，這樣才有辦法得到第二次轉移學習後的分類模型。"
   ]
  },
  {
   "cell_type": "code",
   "execution_count": null,
   "id": "ad3b2799",
   "metadata": {},
   "outputs": [],
   "source": [
    "model.compile(loss = \"categorical_crossentropy\", optimizer = \"adam\",\n",
    "             metrics=[\"accuracy\"])\n",
    "history = model.fit(train_data_last5,train_label_last5,\n",
    "                    validation_split = 0.2,\n",
    "                    epochs=5, batch_size = 64,verbose=2)"
   ]
  },
  {
   "cell_type": "markdown",
   "id": "92525810",
   "metadata": {},
   "source": [
    "完成後面五個手寫數字圖片的訓練後，接下來就可以評估模型了"
   ]
  },
  {
   "cell_type": "code",
   "execution_count": null,
   "id": "baeae228",
   "metadata": {},
   "outputs": [],
   "source": [
    "loss, accuracy = model.evaluate(test_data_last5,test_label_last5)"
   ]
  }
 ],
 "metadata": {
  "kernelspec": {
   "display_name": "Python 3 (ipykernel)",
   "language": "python",
   "name": "python3"
  },
  "language_info": {
   "codemirror_mode": {
    "name": "ipython",
    "version": 3
   },
   "file_extension": ".py",
   "mimetype": "text/x-python",
   "name": "python",
   "nbconvert_exporter": "python",
   "pygments_lexer": "ipython3",
   "version": "3.8.10"
  }
 },
 "nbformat": 4,
 "nbformat_minor": 5
}
