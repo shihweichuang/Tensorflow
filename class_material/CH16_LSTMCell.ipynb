{
 "cells": [
  {
   "cell_type": "code",
   "execution_count": null,
   "id": "f9adc1e1",
   "metadata": {},
   "outputs": [],
   "source": [
    "import tensorflow as tf\n",
    "from tensorflow.keras import layers\n",
    "# input 格式 =[句子數目, 每句單詞數目, 單詞的特徵數目]\n",
    "input = tf.random.normal([2,10,50])\n",
    "#  給定第一個時間步的輸入資料\n",
    "xt = input[:,0,:]\n",
    "state = [tf.zeros([2,32]),tf.zeros([2,32])]\n",
    "# 創建 LSTMCell, 輸出空間為度為 32\n",
    "Cell = layers.LSTMCell(32)\n",
    "output,state = Cell(xt,state)\n",
    "# 輸出 output, state[0], state[1] 記憶體空間 id\n",
    "print(\"id(output) :\",id(output))\n",
    "print(\"id(state[0]) :\",id(state[0]))\n",
    "print(\"id(state[1]) :\",id(state[1]))"
   ]
  },
  {
   "cell_type": "markdown",
   "id": "0367e775",
   "metadata": {},
   "source": [
    "利用迴圈來完成完整的時間步上的循環運算"
   ]
  },
  {
   "cell_type": "code",
   "execution_count": null,
   "id": "4820ffd6",
   "metadata": {},
   "outputs": [],
   "source": [
    "import tensorflow as tf\n",
    "from tensorflow.keras import layers\n",
    "# input 格式 =[句子數目, 每句單詞數目, 單詞的特徵數目]\n",
    "input = tf.random.normal([2,10,50])\n",
    "state = [tf.zeros([2,32]),tf.zeros([2,32])]\n",
    "# 創建 LSTMCell, 輸出空間為度為 32\n",
    "Cell = layers.LSTMCell(32)\n",
    "for xt in tf.unstack(input, axis=1):\n",
    "    output,state = Cell(xt,state)\n",
    "    print(id(output))"
   ]
  }
 ],
 "metadata": {
  "kernelspec": {
   "display_name": "Python 3 (ipykernel)",
   "language": "python",
   "name": "python3"
  },
  "language_info": {
   "codemirror_mode": {
    "name": "ipython",
    "version": 3
   },
   "file_extension": ".py",
   "mimetype": "text/x-python",
   "name": "python",
   "nbconvert_exporter": "python",
   "pygments_lexer": "ipython3",
   "version": "3.8.10"
  }
 },
 "nbformat": 4,
 "nbformat_minor": 5
}
