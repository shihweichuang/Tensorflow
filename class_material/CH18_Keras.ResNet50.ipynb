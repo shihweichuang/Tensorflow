{
 "cells": [
  {
   "cell_type": "markdown",
   "id": "f8f2c467",
   "metadata": {},
   "source": [
    "# keras.applications 所提供的網路模型完成影像辨識"
   ]
  },
  {
   "cell_type": "markdown",
   "id": "9afc209d",
   "metadata": {},
   "source": [
    "範例一：使用ResNet50進行影像辨識"
   ]
  },
  {
   "cell_type": "code",
   "execution_count": null,
   "id": "5f3bdfc8",
   "metadata": {},
   "outputs": [],
   "source": [
    "from tensorflow.keras.applications.resnet50 import ResNet50\n",
    "from tensorflow.keras.preprocessing import image\n",
    "from tensorflow.keras.applications.resnet50 import preprocess_input , decode_predictions\n",
    "import numpy as np\n",
    "import tensorflow as tf\n",
    "import matplotlib.pyplot as plt\n",
    "\n",
    "# 載入預先訓練好的模型 -- ResNet50\n",
    "# 並且載入預先訓練好的權重 (這邊是用 imagenet)\n",
    "model = ResNet50(weights='imagenet')\n",
    "# 可以在工作路徑上放想識別的影像\n",
    "img_path = 'dog.jpeg'\n",
    "# 載入影像，並將影像縮放寬高為 (224, 224)\n",
    "img = image.load_img(img_path, target_size=(224, 224))\n",
    "plt.imshow(img)\n",
    "plt.show()     # 顯示影像"
   ]
  },
  {
   "cell_type": "code",
   "execution_count": null,
   "id": "7033f818",
   "metadata": {},
   "outputs": [],
   "source": [
    "# 將影像轉換為陣列形式 ==> (224, 224, 3)\n",
    "x = image.img_to_array(img)\n",
    "# 新增一個維度 ==> (1, 224, 224, 3)\n",
    "x = np.expand_dims(x, axis=0)\n",
    "# 對圖象作一個預處理的動作\n",
    "x = preprocess_input(x)\n",
    "# 輸入圖像預測\n",
    "preds = model.predict(x)\n",
    "# 取得預測前三名的類別及機率\n",
    "print('Predicted:', decode_predictions(preds, top=3)[0])"
   ]
  }
 ],
 "metadata": {
  "kernelspec": {
   "display_name": "Python 3 (ipykernel)",
   "language": "python",
   "name": "python3"
  },
  "language_info": {
   "codemirror_mode": {
    "name": "ipython",
    "version": 3
   },
   "file_extension": ".py",
   "mimetype": "text/x-python",
   "name": "python",
   "nbconvert_exporter": "python",
   "pygments_lexer": "ipython3",
   "version": "3.8.10"
  }
 },
 "nbformat": 4,
 "nbformat_minor": 5
}
