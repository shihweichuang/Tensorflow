{
 "cells": [
  {
   "cell_type": "markdown",
   "id": "60ce26a3",
   "metadata": {},
   "source": [
    "# Colab 筆記本軟硬體執行環境"
   ]
  },
  {
   "cell_type": "markdown",
   "id": "92e1a52d",
   "metadata": {},
   "source": [
    "步驟一：查看CPU詳細資料"
   ]
  },
  {
   "cell_type": "code",
   "execution_count": null,
   "id": "e4fdeb2c",
   "metadata": {},
   "outputs": [],
   "source": [
    "!vat /proc/cpuinfo"
   ]
  },
  {
   "cell_type": "markdown",
   "id": "fe2d41bb",
   "metadata": {},
   "source": [
    "步驟二：查看CPU數量與核心數量"
   ]
  },
  {
   "cell_type": "code",
   "execution_count": null,
   "id": "db7bb121",
   "metadata": {},
   "outputs": [],
   "source": [
    "import psutil\n",
    "# CPU的物理CPU的個數\n",
    "psutil.cpu_count(logical=False)"
   ]
  },
  {
   "cell_type": "code",
   "execution_count": null,
   "id": "6cc01f7d",
   "metadata": {},
   "outputs": [],
   "source": [
    "# CPU的邏輯CPU的個數\n",
    "psutil.cpu_count()"
   ]
  },
  {
   "cell_type": "markdown",
   "id": "c18faf28",
   "metadata": {},
   "source": [
    "步驟三：查看Disk硬碟資訊"
   ]
  },
  {
   "cell_type": "markdown",
   "id": "87e5ec39",
   "metadata": {},
   "source": [
    "步驟四：查看RAM記憶體"
   ]
  },
  {
   "cell_type": "markdown",
   "id": "4b645403",
   "metadata": {},
   "source": [
    "# 查看虛擬主機的軟體執行環境"
   ]
  },
  {
   "cell_type": "markdown",
   "id": "fef08c32",
   "metadata": {},
   "source": [
    "步驟一：查看虛擬主機的作業系統版本\n"
   ]
  },
  {
   "cell_type": "code",
   "execution_count": null,
   "id": "1ee1d50f",
   "metadata": {},
   "outputs": [],
   "source": [
    "!cat/etc/os-release"
   ]
  },
  {
   "cell_type": "markdown",
   "id": "8d854b5a",
   "metadata": {},
   "source": [
    "步驟二：查看預安裝的Tensorflow 2.x版本"
   ]
  },
  {
   "cell_type": "code",
   "execution_count": null,
   "id": "7300f6f6",
   "metadata": {},
   "outputs": [],
   "source": [
    "# 查看Tensorflow版本\n",
    "import tensorflow as tf\n",
    "tf.__version__"
   ]
  },
  {
   "cell_type": "code",
   "execution_count": null,
   "id": "915dfb8f",
   "metadata": {},
   "outputs": [],
   "source": [
    "# 查看tf.keras版本\n",
    "tf.keras.__version__"
   ]
  },
  {
   "cell_type": "markdown",
   "id": "b26e24a3",
   "metadata": {},
   "source": [
    "步驟三：查看 numpy 與 pandas 版本"
   ]
  },
  {
   "cell_type": "code",
   "execution_count": null,
   "id": "9561e374",
   "metadata": {},
   "outputs": [],
   "source": [
    "# 查看numpy版本\n",
    "import numpy as np\n",
    "np.__version"
   ]
  },
  {
   "cell_type": "code",
   "execution_count": null,
   "id": "7cbc2eb7",
   "metadata": {},
   "outputs": [],
   "source": [
    "# 查看pandas版本\n",
    "import pandas as pd\n",
    "pd.__version"
   ]
  },
  {
   "cell_type": "markdown",
   "id": "a0e07c0f",
   "metadata": {},
   "source": [
    "步驟四：查看已經安裝的程式庫"
   ]
  },
  {
   "cell_type": "code",
   "execution_count": null,
   "id": "7af94074",
   "metadata": {},
   "outputs": [],
   "source": [
    "# 查看已經安裝的程式庫\n",
    "!pip freeze"
   ]
  }
 ],
 "metadata": {
  "kernelspec": {
   "display_name": "Python 3 (ipykernel)",
   "language": "python",
   "name": "python3"
  },
  "language_info": {
   "codemirror_mode": {
    "name": "ipython",
    "version": 3
   },
   "file_extension": ".py",
   "mimetype": "text/x-python",
   "name": "python",
   "nbconvert_exporter": "python",
   "pygments_lexer": "ipython3",
   "version": "3.8.10"
  }
 },
 "nbformat": 4,
 "nbformat_minor": 5
}
